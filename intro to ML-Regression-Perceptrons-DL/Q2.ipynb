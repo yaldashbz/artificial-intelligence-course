{
 "cells": [
  {
   "cell_type": "markdown",
   "metadata": {
    "id": "d98O4vjubJ3j"
   },
   "source": [
    "<div align=center>\n",
    "\t\t\n",
    "<p></p>\n",
    "<p></p>\n",
    "<font size=5>\n",
    "In the Name of God\n",
    "<font/>\n",
    "<p></p>\n",
    " <br/>\n",
    "    <br/>\n",
    "    <br/>\n",
    "<font color=#FF7500>\n",
    "Sharif University of Technology - Departmenet of Computer Engineering\n",
    "</font>\n",
    "<p></p>\n",
    "<font color=blue>\n",
    "Artifical Intelligence - Dr. Mohammad Hossein Rohban\n",
    "</font>\n",
    "<br/>\n",
    "<br/>\n",
    "Fall 2021\n",
    "\n",
    "</div>\n",
    "\n",
    "<hr/>\n",
    "\t\t<div align=center>\n",
    "\t\t    <font color=red size=6>\n",
    "\t\t\t    <br />\n",
    "Practical Assignment 4 Pytorch Classification\n",
    "            \t<br/>\n",
    "\t\t\t</font>\n",
    "    <br/>\n",
    "    <br/>\n",
    "<font size=4>\n",
    "                <br/><b>\n",
    "              Cheating is Strongly Prohibited\n",
    "                </b><br/><br/>\n",
    "                <font color=red>\n",
    "Please run all the cells.\n",
    "     </font>\n",
    "</font>\n",
    "                <br/>\n",
    "    </div>"
   ]
  },
  {
   "cell_type": "markdown",
   "metadata": {
    "id": "Vc56RQq_bJ3p"
   },
   "source": [
    "# Personal Data"
   ]
  },
  {
   "cell_type": "code",
   "execution_count": null,
   "metadata": {
    "collectable": true,
    "execution": {
     "iopub.execute_input": "2021-10-01T16:01:36.762477Z",
     "iopub.status.busy": "2021-10-01T16:01:36.762155Z",
     "iopub.status.idle": "2021-10-01T16:01:36.764025Z",
     "shell.execute_reply": "2021-10-01T16:01:36.763754Z"
    },
    "id": "tODT3Ai9bJ3q"
   },
   "outputs": [],
   "source": [
    "# Set your student number\n",
    "student_number = 98101822\n",
    "Name = 'یلدا'\n",
    "Last_Name = 'شعبان زاده'"
   ]
  },
  {
   "cell_type": "code",
   "execution_count": null,
   "metadata": {
    "colab": {
     "base_uri": "https://localhost:8080/"
    },
    "id": "8u4kEODo4AI5",
    "outputId": "78067989-0a60-4707-87bb-8995dcafed88"
   },
   "outputs": [
    {
     "name": "stdout",
     "output_type": "stream",
     "text": [
      "Mounted at /content/drive\n"
     ]
    }
   ],
   "source": [
    "from google.colab import drive\n",
    "drive.mount('/content/drive')"
   ]
  },
  {
   "cell_type": "markdown",
   "metadata": {
    "id": "j36cYwxIbJ3r"
   },
   "source": [
    "# Rules\n",
    "- You **are** allowed to add or remove cells. \n",
    "- By running the cell below, you can see if your jupyter file is accepted or not. This cell will also **generate a python file which you'll have to upload to Quera** (as well as your jupyter file). The python file will later be validated and if the code in both files doesn't match, **your Practical Assignment won't be graded**."
   ]
  },
  {
   "cell_type": "code",
   "execution_count": null,
   "metadata": {
    "colab": {
     "base_uri": "https://localhost:8080/"
    },
    "id": "YTGw1qcg4Jxs",
    "outputId": "6582fefd-b16f-48b8-b82c-c22125c62a30"
   },
   "outputs": [
    {
     "name": "stdout",
     "output_type": "stream",
     "text": [
      "/content/drive/MyDrive/AI/MPQ4/Practical\n"
     ]
    }
   ],
   "source": [
    "import sys\n",
    "\n",
    "address = 'AI/MPQ4/Practical'\n",
    "sys.path.append(f'content/drive/MyDrive/{address}')\n",
    "\n",
    "% cd /content/drive/MyDrive/$address"
   ]
  },
  {
   "cell_type": "code",
   "execution_count": null,
   "metadata": {
    "colab": {
     "base_uri": "https://localhost:8080/"
    },
    "id": "MxF-SCt7bJ3s",
    "outputId": "26efde41-29cd-4a74-ff50-3bea896e56e7"
   },
   "outputs": [
    {
     "name": "stdout",
     "output_type": "stream",
     "text": [
      "your file will be graded\n"
     ]
    }
   ],
   "source": [
    "# remember to save your jupyter file before running this script\n",
    "from Helper_codes.validator import *\n",
    "\n",
    "python_code = extract_python(\"./Q2.ipynb\")\n",
    "with open(f'python_code_Q2_{student_number}.py', 'w') as file:\n",
    "    file.write(python_code)"
   ]
  },
  {
   "cell_type": "markdown",
   "metadata": {
    "id": "Fa1McbDhbJ3s"
   },
   "source": [
    "# PyTorch & MNIST Classification (50 points+5 Extra)"
   ]
  },
  {
   "cell_type": "markdown",
   "metadata": {
    "id": "sSeuI5X2bJ3t"
   },
   "source": [
    "<font size=4>\n",
    "Author: Arman Zarei\n",
    "\t\t\t<br/>\n",
    "                <font color=red>\n",
    "Please run all the cells.\n",
    "     </font>\n",
    "</font>\n",
    "                <br/>\n",
    "    </div>"
   ]
  },
  {
   "cell_type": "markdown",
   "metadata": {
    "id": "hpgcA5aVbhvr"
   },
   "source": [
    "In this assignment, you are going to learn the fundamentals of PyTorch and implement a classifier network for MNIST dataset. You can read about more details of PyTorch components from [this link](https://pytorch.org/tutorials)."
   ]
  },
  {
   "cell_type": "markdown",
   "metadata": {
    "id": "eWerEtmwcjDW"
   },
   "source": [
    "### Setup"
   ]
  },
  {
   "cell_type": "code",
   "execution_count": null,
   "metadata": {
    "id": "WB1qWR7ycyhk"
   },
   "outputs": [],
   "source": [
    "import torch\n",
    "import numpy as np\n",
    "from torchvision import datasets\n",
    "import matplotlib.pyplot as plt\n",
    "import torchvision.transforms as transforms\n",
    "import os\n",
    "from torch.utils.data import Dataset, DataLoader, random_split\n",
    "import torch.nn as nn\n",
    "import torch.nn.functional as F\n",
    "from  Helper_codes.ae_helper import init_mnist_subset_directories"
   ]
  },
  {
   "cell_type": "code",
   "execution_count": null,
   "metadata": {
    "colab": {
     "base_uri": "https://localhost:8080/"
    },
    "id": "Xl50MioBdFpk",
    "outputId": "f7e88cc3-4aee-42e2-8250-f37e9055f05a"
   },
   "outputs": [
    {
     "data": {
      "text/plain": [
       "device(type='cuda')"
      ]
     },
     "execution_count": 7,
     "metadata": {},
     "output_type": "execute_result"
    }
   ],
   "source": [
    "device = torch.device('cuda' if torch.cuda.is_available() else 'cpu')\n",
    "device"
   ]
  },
  {
   "cell_type": "markdown",
   "metadata": {
    "id": "wx59hwkqj0RD"
   },
   "source": [
    "#### Loading dataset"
   ]
  },
  {
   "cell_type": "code",
   "execution_count": null,
   "metadata": {
    "id": "YDdS3sikj1xB"
   },
   "outputs": [],
   "source": [
    "mnist_dataset = datasets.MNIST(root='data', train=True, download=True, transform=transforms.ToTensor())"
   ]
  },
  {
   "cell_type": "code",
   "execution_count": null,
   "metadata": {
    "colab": {
     "base_uri": "https://localhost:8080/",
     "height": 283
    },
    "id": "rhXV5N0qrc6d",
    "outputId": "8fcd3b80-91de-4dbd-84cf-4174165b10af"
   },
   "outputs": [
    {
     "data": {
      "text/plain": [
       "<matplotlib.image.AxesImage at 0x7f9d5f109dd0>"
      ]
     },
     "execution_count": 12,
     "metadata": {},
     "output_type": "execute_result"
    },
    {
     "data": {
      "image/png": "[encoded data removed]",
      "text/plain": [
       "<Figure size 432x288 with 1 Axes>"
      ]
     },
     "metadata": {
      "needs_background": "light"
     },
     "output_type": "display_data"
    }
   ],
   "source": [
    "import random\n",
    "\n",
    "\n",
    "train, test = mnist_dataset[random.randint(0, len(mnist_dataset) - 1)]\n",
    "plt.imshow(train[0], cmap='gray')"
   ]
  },
  {
   "cell_type": "markdown",
   "metadata": {
    "id": "USPO44OldQSB"
   },
   "source": [
    "## Autograd"
   ]
  },
  {
   "cell_type": "markdown",
   "metadata": {
    "id": "UZ3MTvqldpmz"
   },
   "source": [
    "Autograd is PyTorch's automatic differentiation engine that powers neural network training. In essence it helps us to calculate derivatives and updating parameters. To read more about Autograd and Computational Graph visit [this link](https://pytorch.org/tutorials/beginner/blitz/autograd_tutorial.html)\n",
    "\n",
    "Let us define two parameters: $p_1$ and $p_2$. "
   ]
  },
  {
   "cell_type": "code",
   "execution_count": null,
   "metadata": {
    "id": "fyMHSBA7eg1P"
   },
   "outputs": [],
   "source": [
    "p1 = torch.tensor([3.], requires_grad=True)\n",
    "p2 = torch.tensor([7.], requires_grad=True)"
   ]
  },
  {
   "cell_type": "markdown",
   "metadata": {
    "id": "3clMbGmyesLk"
   },
   "source": [
    "Now define a variable $L$ as below:\n",
    "\n",
    "$L = 3 \\times p_1^3 - 7 \\times p_2^2 + sin(p1) \\times p_2^2$"
   ]
  },
  {
   "cell_type": "code",
   "execution_count": null,
   "metadata": {
    "colab": {
     "base_uri": "https://localhost:8080/"
    },
    "collectable": true,
    "id": "Q6Rf3tc5bJ3u",
    "outputId": "9fade528-5178-4cdb-8a7d-06b85e8cd2e1"
   },
   "outputs": [
    {
     "data": {
      "text/plain": [
       "tensor([-255.0851], grad_fn=<AddBackward0>)"
      ]
     },
     "execution_count": 14,
     "metadata": {},
     "output_type": "execute_result"
    }
   ],
   "source": [
    "L = 3 * pow(p1, 3) - 7 * pow(p2, 2) + torch.sin(p1) * pow(p2, 2)\n",
    "L"
   ]
  },
  {
   "cell_type": "markdown",
   "metadata": {
    "id": "yVEaM66zfI_r"
   },
   "source": [
    "Now you have to calculate the gradient of $p_1$ and $p_2$ with respect to $L$. First do it by hand and write the mathematical expression in the below cell both for $p_1$ and $p_2$. Then evaluate them at $3$ and $7$ (acording to the initialization)"
   ]
  },
  {
   "cell_type": "markdown",
   "metadata": {
    "id": "6AK61RzngBya"
   },
   "source": [
    "Place your expressions here **(2.5 Points)**\n",
    "\n",
    "\n",
    "$\\frac{dL}{dp_1} = 9 \\times {p_1} ^ 2 + cos({p_1}) \\times {p_2} ^ 2$ \n",
    "\n",
    "$\\frac{dL}{dp_2} = -14 \\times {p_2}  + 2 \\times sin({p_1}) \\times {p_2}$\n",
    "\n",
    "$\\frac{dL}{dp_1}(3, 7) = 32.4904$\n",
    "\n",
    "$\\frac{dL}{dp_2}(3, 7) = -96.0243$"
   ]
  },
  {
   "cell_type": "code",
   "execution_count": null,
   "metadata": {
    "colab": {
     "base_uri": "https://localhost:8080/"
    },
    "id": "H8J9pEWYhQ7-",
    "outputId": "c2d0ae8f-8a6c-4fe0-810b-395b4a4442cb"
   },
   "outputs": [
    {
     "data": {
      "text/plain": [
       "(tensor([32.4904], grad_fn=<AddBackward0>),\n",
       " tensor([-96.0243], grad_fn=<AddBackward0>))"
      ]
     },
     "execution_count": 15,
     "metadata": {},
     "output_type": "execute_result"
    }
   ],
   "source": [
    "def get_partial_derivatives(p1, p2):\n",
    "    return (\n",
    "        9 * pow(p1, 2) + torch.cos(p1) * pow(p2, 2),\n",
    "        -14 * p2 + 2 * torch.sin(p1) * p2\n",
    "    )\n",
    "\n",
    "get_partial_derivatives(p1, p2)"
   ]
  },
  {
   "cell_type": "markdown",
   "metadata": {
    "id": "vfnbUWe9jDN_"
   },
   "source": [
    "Now let's calculate this using pytorch. The below code will construct the computational graph and stores the gradient of each variable inside of it."
   ]
  },
  {
   "cell_type": "code",
   "execution_count": null,
   "metadata": {
    "id": "JHOUb91BfSLV"
   },
   "outputs": [],
   "source": [
    "L.backward()"
   ]
  },
  {
   "cell_type": "markdown",
   "metadata": {
    "id": "DPlm6Y-WjdqQ"
   },
   "source": [
    "Check whether the result of your calculations is the same with the autograd's output."
   ]
  },
  {
   "cell_type": "code",
   "execution_count": null,
   "metadata": {
    "colab": {
     "base_uri": "https://localhost:8080/"
    },
    "id": "dTATg0EXfemL",
    "outputId": "6f8df202-a9e8-4d94-f10d-b02eb846aa01"
   },
   "outputs": [
    {
     "name": "stdout",
     "output_type": "stream",
     "text": [
      "P_1 grad: 32.4903678894043\n",
      "P_2 grad: -96.02432250976562\n"
     ]
    }
   ],
   "source": [
    "print(f\"P_1 grad: {p1.grad.item()}\\nP_2 grad: {p2.grad.item()}\")"
   ]
  },
  {
   "cell_type": "markdown",
   "metadata": {
    "id": "bnNZl6e6jpqt"
   },
   "source": [
    "## Transform "
   ]
  },
  {
   "cell_type": "markdown",
   "metadata": {
    "id": "LU7tlE9JkdPq"
   },
   "source": [
    "Data does not always come in its final processed form that is required for training machine learning algorithms. We use transforms to perform some manipulation of the data and make it suitable for training. For more details, you can read [this link](https://pytorch.org/vision/stable/transforms.html)\n",
    "\n",
    "There are many transformations that are already implemented inside pytorch that you can use. Here we are going to implement some transformation from scratch using PyTorch's framework."
   ]
  },
  {
   "cell_type": "code",
   "execution_count": null,
   "metadata": {
    "id": "G7W5plCSzNJk"
   },
   "outputs": [],
   "source": [
    "def plot(imgs, nrows, ncols, titles=None, **imshow_kwargs):\n",
    "    assert len(imgs) <= nrows * ncols\n",
    "\n",
    "    _, axs = plt.subplots(\n",
    "        nrows=nrows, ncols=ncols, squeeze=False,\n",
    "        figsize=(ncols * 4, nrows * 4)\n",
    "    )\n",
    "    for row_idx in range(nrows):\n",
    "        for col_idx in range(ncols):\n",
    "            idx = row_idx * ncols + col_idx\n",
    "            ax = axs[row_idx, col_idx]\n",
    "            if titles and len(titles) > idx:\n",
    "                ax.set(title=titles[idx])\n",
    "                ax.title.set_size(12)\n",
    "            ax.imshow(np.asarray(imgs[idx][0]), **imshow_kwargs)\n",
    "            ax.set(xticklabels=[], yticklabels=[], xticks=[], yticks=[])"
   ]
  },
  {
   "cell_type": "markdown",
   "metadata": {
    "id": "axRueoKYkrq2"
   },
   "source": [
    "#### Random Horizontal Flip Transformation"
   ]
  },
  {
   "cell_type": "markdown",
   "metadata": {
    "id": "VWJaLIkgl6im"
   },
   "source": [
    "Define a transformation that flips the image (horizontally) with probability of $p$. In order to implement a simple transformation class, you need to have two methods: `__init__` and `__call__` (which receives the image)"
   ]
  },
  {
   "cell_type": "code",
   "execution_count": null,
   "metadata": {
    "id": "tpVu037dkqGW"
   },
   "outputs": [],
   "source": [
    "class RandomHorizontalFlip:\n",
    "    \"\"\"same as RandomHorizontalFlip in torch transforms\"\"\"\n",
    "\n",
    "    def __init__(self, p=0.5):\n",
    "        self.p = p\n",
    "\n",
    "    def __call__(self, x):\n",
    "        assert 2 <= x.ndim <= 3\n",
    "\n",
    "        img = x\n",
    "        if x.ndim == 3:\n",
    "            assert x.shape[0] == 1\n",
    "            img = x[0]\n",
    "  \n",
    "        if torch.rand(1) < self.p:\n",
    "            return torch.fliplr(img).reshape(x.shape)\n",
    "        return img.reshape(x.shape)"
   ]
  },
  {
   "cell_type": "code",
   "execution_count": null,
   "metadata": {
    "colab": {
     "base_uri": "https://localhost:8080/",
     "height": 253
    },
    "id": "VftI3WFV5i_j",
    "outputId": "d4c33c1d-758e-4846-9dde-5e493f588fe0"
   },
   "outputs": [
    {
     "data": {
      "image/png": "[encoded data removed]",
      "text/plain": [
       "<Figure size 576x288 with 2 Axes>"
      ]
     },
     "metadata": {},
     "output_type": "display_data"
    }
   ],
   "source": [
    "flipped = RandomHorizontalFlip()(train)\n",
    "plot([train, flipped], 1, 2, ['Original', 'Random Flip'], cmap='gray')"
   ]
  },
  {
   "cell_type": "markdown",
   "metadata": {
    "id": "p7kC6zOOmraA"
   },
   "source": [
    "#### Random Color Swap"
   ]
  },
  {
   "cell_type": "markdown",
   "metadata": {
    "id": "LcFPotJVmzha"
   },
   "source": [
    "Now that you have learned how to implement a transformation class, let's build another one. Define a transformation which swaps the colors (in the gray scale image) with probability of $p$. For example, if the given image had a white colored number with a black background, it should output an image with black colored number and a white background.\n",
    "\n",
    "**Hint:** for a given input $x$, you can concider the swapped color version of it as $x_{new} = m - x$ where $m$ is the maximum value in image $x$"
   ]
  },
  {
   "cell_type": "code",
   "execution_count": null,
   "metadata": {
    "id": "5_4W0QeDmxrZ"
   },
   "outputs": [],
   "source": [
    "class RandomColorSwap:\n",
    "    \"\"\"same as RandomInvert in torch transforms\"\"\"\n",
    "    \n",
    "    def __init__(self, p=0.5):\n",
    "        self.p = p\n",
    "    \n",
    "    def __call__(self, x):\n",
    "        assert 2 <= x.ndim <= 3\n",
    "  \n",
    "        if torch.rand(1) < self.p:\n",
    "            return torch.max(x) - x\n",
    "        return x"
   ]
  },
  {
   "cell_type": "code",
   "execution_count": null,
   "metadata": {
    "colab": {
     "base_uri": "https://localhost:8080/",
     "height": 253
    },
    "id": "pk1uOmVT7aUI",
    "outputId": "c27f4319-95f3-42cf-aff2-eb96794da6cb"
   },
   "outputs": [
    {
     "data": {
      "image/png": "[encoded data removed]",
      "text/plain": [
       "<Figure size 576x288 with 2 Axes>"
      ]
     },
     "metadata": {},
     "output_type": "display_data"
    }
   ],
   "source": [
    "swapped = RandomColorSwap()(train)\n",
    "plot([train, swapped], 1, 2, ['Original', 'Random Swap'], cmap='gray')"
   ]
  },
  {
   "cell_type": "markdown",
   "metadata": {
    "id": "6sO1GAmQn-D_"
   },
   "source": [
    "### Evaluation of transformations"
   ]
  },
  {
   "cell_type": "markdown",
   "metadata": {
    "id": "gU8dglTeoCSq"
   },
   "source": [
    "Now, let's apply these transformations on some images of our dataset. You can stack different transformation using `Compose`"
   ]
  },
  {
   "cell_type": "code",
   "execution_count": null,
   "metadata": {
    "id": "HhU0pqttoBC7"
   },
   "outputs": [],
   "source": [
    "trans = transforms.Compose([\n",
    "  RandomHorizontalFlip(p=0.7),\n",
    "  RandomColorSwap()\n",
    "])"
   ]
  },
  {
   "cell_type": "code",
   "execution_count": null,
   "metadata": {
    "colab": {
     "base_uri": "https://localhost:8080/",
     "height": 188
    },
    "id": "WjTBM5N8oMJQ",
    "outputId": "8aaa146a-d60b-4e24-e4ce-ed85853bebbe"
   },
   "outputs": [
    {
     "data": {
      "image/png": "[encoded data removed]",
      "text/plain": [
       "<Figure size 1800x360 with 20 Axes>"
      ]
     },
     "metadata": {},
     "output_type": "display_data"
    }
   ],
   "source": [
    "num_imgs = 10\n",
    "fig, axs = plt.subplots(2, num_imgs, figsize=(25, 5))\n",
    "for i, idx in enumerate(torch.randint(0, len(mnist_dataset), [num_imgs])):\n",
    "    x, y = mnist_dataset[idx]\n",
    "    axs[0, i].imshow(x[0], cmap='gray')\n",
    "    axs[1, i].imshow(trans(x)[0], cmap='gray')\n",
    "    for k in range(2):\n",
    "        axs[k, i].set_yticks([])\n",
    "        axs[k, i].set_xticks([])\n",
    "\n",
    "axs[0, 0].set_ylabel(\"Original\")\n",
    "axs[1, 0].set_ylabel(\"Transformed\");"
   ]
  },
  {
   "cell_type": "markdown",
   "metadata": {
    "id": "nrl6OhN_osOd"
   },
   "source": [
    "What we expect to see is that, some of them are fliped horizontally, some swapped in color, and some both."
   ]
  },
  {
   "cell_type": "markdown",
   "metadata": {
    "id": "6f3K_sOxpG3V"
   },
   "source": [
    "## Dataset"
   ]
  },
  {
   "cell_type": "markdown",
   "metadata": {
    "id": "sYh7GBGPpQhU"
   },
   "source": [
    "In this section, we are going to implement a dataset class. Inside `torchvision.datasets` there are many Datasets that are already implemented and ready to use. But, in many situations it's necessary to implement one by your self."
   ]
  },
  {
   "cell_type": "markdown",
   "metadata": {
    "id": "JqQjsiGTrW8l"
   },
   "source": [
    "Run the below cell to initialize our dataset"
   ]
  },
  {
   "cell_type": "code",
   "execution_count": null,
   "metadata": {
    "colab": {
     "base_uri": "https://localhost:8080/"
    },
    "id": "FztDAwMxrLRx",
    "outputId": "29e6063d-9f5b-4ee9-b1c5-0998191d710f"
   },
   "outputs": [
    {
     "name": "stderr",
     "output_type": "stream",
     "text": [
      "100%|██████████| 5000/5000 [00:34<00:00, 143.66it/s]\n"
     ]
    }
   ],
   "source": [
    "dataset_path = \"new_mnist\"\n",
    "init_mnist_subset_directories(mnist_dataset, dataset_path)"
   ]
  },
  {
   "cell_type": "markdown",
   "metadata": {
    "id": "7iYvcVlhrmmk"
   },
   "source": [
    "If you take a look at `new_mnist` directory which is created in the directory you are working in, you see that it contains 10 folders with names from `0` to `9` indicating the label of the images inside it. Inside each, some files with name `data_{number}.pth` exist. Each `.pth` file is an image.\n",
    "\n",
    "Now you have to implement a Dataset on top of these files.\n",
    "The methods that you should implement in a Dataset (as you can see in the code) is as described below:\n",
    "- `__init__`: In our example assume that it only accepts `root_dir` and `transform` as it's parameters (You should apply the transformations before outputing the data)\n",
    "- `__len__`: Should return the number of data in your dataset\n",
    "- `__getitem__`: which receives an index, should return the data at the given index (which is a tuple here, containing image and the corresponding label) "
   ]
  },
  {
   "cell_type": "code",
   "execution_count": null,
   "metadata": {
    "id": "RixD6z30qt1o"
   },
   "outputs": [],
   "source": [
    "class MNISTDataset(Dataset):\n",
    "    def __init__(self, root_dir, transform):\n",
    "        self._data, self._labels = self._load_data(root_dir)\n",
    "        self._transform = transform\n",
    "\n",
    "    def __len__(self):\n",
    "        return len(self._data)\n",
    "\n",
    "    def __getitem__(self, idx):\n",
    "        image = self._transform(self._data[idx])\n",
    "        return image, self._labels[idx]\n",
    "    \n",
    "    def _load_data(self, root_dir):\n",
    "        data = []\n",
    "        labels = []\n",
    "        for label_dir in os.listdir(root_dir):\n",
    "            label_path = os.path.join(root_dir, label_dir)\n",
    "            for pth_file in os.listdir(label_path):\n",
    "                if pth_file.endswith('.pth'):\n",
    "                    pth_path = os.path.join(label_path, pth_file)\n",
    "                    data.append(torch.load(pth_path))\n",
    "                    labels.append(int(label_dir))\n",
    "        return data, labels"
   ]
  },
  {
   "cell_type": "markdown",
   "metadata": {
    "id": "ObSdu-MwuYJK"
   },
   "source": [
    "After you defined your dataset, let's use it."
   ]
  },
  {
   "cell_type": "code",
   "execution_count": null,
   "metadata": {
    "colab": {
     "base_uri": "https://localhost:8080/"
    },
    "id": "YctASmSEuiqG",
    "outputId": "e9bd1b26-b357-4cf6-b3f9-56f12a0ff9cd"
   },
   "outputs": [
    {
     "data": {
      "text/plain": [
       "5000"
      ]
     },
     "execution_count": 33,
     "metadata": {},
     "output_type": "execute_result"
    }
   ],
   "source": [
    "my_dataset = MNISTDataset(root_dir=dataset_path, transform=RandomColorSwap())\n",
    "len(my_dataset)"
   ]
  },
  {
   "cell_type": "markdown",
   "metadata": {
    "id": "VMTt5b4wvWik"
   },
   "source": [
    "Visualize 10 samples (randomely) from your dataset with their labels"
   ]
  },
  {
   "cell_type": "code",
   "execution_count": null,
   "metadata": {
    "colab": {
     "base_uri": "https://localhost:8080/",
     "height": 367
    },
    "id": "nWMmwUvjudSr",
    "outputId": "55a378ea-297b-41e8-ea46-ed34b9badc03"
   },
   "outputs": [
    {
     "data": {
      "image/png": "[encoded data removed]",
      "text/plain": [
       "<Figure size 1440x576 with 10 Axes>"
      ]
     },
     "metadata": {},
     "output_type": "display_data"
    }
   ],
   "source": [
    "idxs = np.random.randint(len(my_dataset), size=10)\n",
    "data = [my_dataset[idx] for idx in idxs]\n",
    "images = list(map(lambda img: img[0], data))\n",
    "titles = list(map(lambda img: str(img[1]), data))\n",
    "plot(images, 2, 5, titles, cmap='gray')"
   ]
  },
  {
   "cell_type": "markdown",
   "metadata": {
    "id": "qKWNRCGuwDpf"
   },
   "source": [
    "## MNIST Classification"
   ]
  },
  {
   "cell_type": "markdown",
   "metadata": {
    "id": "DQ8QfxCnzESu"
   },
   "source": [
    "### Model\n",
    "Define your model (Based on what you have learned in the workshop). I highly encourage you to try different models with different layers in order to achieve a better accuracy\n",
    "\n",
    "**Notice:** You cannot use convolution layers in your model "
   ]
  },
  {
   "cell_type": "code",
   "execution_count": null,
   "metadata": {
    "id": "2rpkLTDazDgl"
   },
   "outputs": [],
   "source": [
    "class DigitRecognizer(nn.Module):\n",
    "\n",
    "    def __init__(self, in_features, hidden_size, num_classes):\n",
    "         super().__init__()\n",
    "         self.l1 = nn.Linear(in_features, hidden_size) \n",
    "         self.relu = nn.ReLU()\n",
    "         self.l2 = nn.Linear(hidden_size, num_classes)\n",
    "    \n",
    "    def forward(self, x):\n",
    "         out = self.l1(x)\n",
    "         out = self.relu(out)\n",
    "         out = self.l2(out)\n",
    "         return out "
   ]
  },
  {
   "cell_type": "code",
   "execution_count": null,
   "metadata": {
    "colab": {
     "base_uri": "https://localhost:8080/"
    },
    "id": "rVXXfXBvzwY3",
    "outputId": "1899e45f-f9eb-4b42-a385-e160c0af90e1"
   },
   "outputs": [
    {
     "data": {
      "text/plain": [
       "DigitRecognizer(\n",
       "  (l1): Linear(in_features=784, out_features=500, bias=True)\n",
       "  (relu): ReLU()\n",
       "  (l2): Linear(in_features=500, out_features=10, bias=True)\n",
       ")"
      ]
     },
     "execution_count": 18,
     "metadata": {},
     "output_type": "execute_result"
    }
   ],
   "source": [
    "in_features = 784 # 28 * 28\n",
    "hidden_size = 500\n",
    "num_classes = 10\n",
    "\n",
    "model = DigitRecognizer(in_features, hidden_size, num_classes).to(device)\n",
    "model"
   ]
  },
  {
   "cell_type": "markdown",
   "metadata": {
    "id": "29ekb8vBz06M"
   },
   "source": [
    "### Dataset and Dataloader"
   ]
  },
  {
   "cell_type": "markdown",
   "metadata": {
    "id": "UIJbRn7C0MXI"
   },
   "source": [
    "Prepare datasets and dataloader for train/test. We use MNIST dataset that is already implemented inside `torchvision.datasets`.\n",
    "\n",
    " You need to split the `mnist_dataset` into `train_dataset` and `val_dataset`. \n",
    " \n",
    " You can also define more transformations that you think it would help the training process **(Optional)**."
   ]
  },
  {
   "cell_type": "code",
   "execution_count": null,
   "metadata": {
    "id": "OGASwi3AzzZV"
   },
   "outputs": [],
   "source": [
    "transform_compose = transforms.Compose([\n",
    "    transforms.ToTensor(),\n",
    "])\n",
    "\n",
    "mnist_dataset = datasets.MNIST(root='dataset', train=True, download=True, transform=transform_compose)\n",
    "# Place your code here (1 points)\n",
    "## Notice: Split mnist_dataset into train_dataset and val_dataset\n",
    "train_size = int(0.9 * len(mnist_dataset))\n",
    "val_size = len(mnist_dataset) - train_size\n",
    "train_dataset, val_dataset = torch.utils.data.random_split(mnist_dataset, (train_size, val_size))\n",
    "# End of block for your code placement\n",
    "test_dataset = datasets.MNIST(root='dataset', train=False, download=True, transform=transforms.ToTensor())\n",
    "\n",
    "train_loader = DataLoader(dataset=train_dataset, batch_size=32, shuffle=True)\n",
    "val_loader = DataLoader(dataset=val_dataset, batch_size=32, shuffle=False)\n",
    "test_loader = DataLoader(dataset=test_dataset, batch_size=32, shuffle=False)"
   ]
  },
  {
   "cell_type": "markdown",
   "metadata": {
    "id": "8_knAsJK1eoL"
   },
   "source": [
    "### Criterion and Optimizer"
   ]
  },
  {
   "cell_type": "markdown",
   "metadata": {
    "id": "hCwVvh7v1mPy"
   },
   "source": [
    "you have to tune the `learning_rate` yourself (Based on your training process)"
   ]
  },
  {
   "cell_type": "code",
   "execution_count": null,
   "metadata": {
    "id": "3AiRenXy1jJO"
   },
   "outputs": [],
   "source": [
    "criterion = nn.CrossEntropyLoss()\n",
    "learning_rate = 0.0001\n",
    "optimizer = torch.optim.Adam(model.parameters(), lr=learning_rate)"
   ]
  },
  {
   "cell_type": "markdown",
   "metadata": {
    "id": "4c9K1Hlf12UF"
   },
   "source": [
    "### Train your model"
   ]
  },
  {
   "cell_type": "markdown",
   "metadata": {
    "id": "urJ44vOA2Exl"
   },
   "source": [
    "Write your training/validation loop in the following cell for an arbitrary number of epochs (until convergence is detected). You also need to store train/validation loss at each epoch in order to visualize them the after training is done."
   ]
  },
  {
   "cell_type": "code",
   "execution_count": null,
   "metadata": {
    "id": "RXa6MusrXMSZ"
   },
   "outputs": [],
   "source": [
    "def train_epoch(\n",
    "    model: nn.Module, \n",
    "    criterion: nn.Module, \n",
    "    optimizer: torch.optim.Optimizer, \n",
    "    dataloader: torch.utils.data.DataLoader\n",
    ") -> int:\n",
    "    train_loss = 0\n",
    "    epoch_loss = 0\n",
    "    epoch_true = 0\n",
    "    epoch_all = 0\n",
    "\n",
    "    model.train()\n",
    "    for _, (images, labels) in enumerate(dataloader): \n",
    "        images = images.reshape(-1, 28 * 28).to(device)\n",
    "        labels = labels.to(device)\n",
    "        outputs = model(images)\n",
    "\n",
    "        loss = criterion(outputs, labels)\n",
    "        epoch_loss = loss.item()\n",
    "\n",
    "        predictions = outputs.argmax(-1)\n",
    "        epoch_all += len(predictions)\n",
    "        epoch_true += (predictions == labels).sum()\n",
    "\n",
    "        loss.backward()\n",
    "\n",
    "        optimizer.step()\n",
    "        optimizer.zero_grad()\n",
    "        train_loss += epoch_loss * dataloader.batch_size\n",
    "\n",
    "    return train_loss, epoch_true, epoch_all"
   ]
  },
  {
   "cell_type": "code",
   "execution_count": null,
   "metadata": {
    "id": "TZ3KRk-CgqEM"
   },
   "outputs": [],
   "source": [
    "def eval_epoch(\n",
    "    model: nn.Module,\n",
    "    criterion: nn.Module,\n",
    "    dataloader: torch.utils.data.DataLoader,\n",
    "    test: bool\n",
    ") -> int:\n",
    "    wrong_ps, wrong_ls, wrong_pr = [], [], []\n",
    "    val_loss = 0\n",
    "    epoch_loss = 0\n",
    "    epoch_true = 0\n",
    "    epoch_all = 0\n",
    "\n",
    "    model.eval()\n",
    "    with torch.no_grad():\n",
    "        for _, (images, labels) in enumerate(dataloader):\n",
    "            images = images.reshape(-1, 28 * 28).to(device)\n",
    "            labels = labels.to(device)\n",
    "            outputs = model(images)\n",
    "\n",
    "            loss = criterion(outputs, labels)\n",
    "            epoch_loss = loss.item()\n",
    "\n",
    "            predictions = outputs.argmax(-1)\n",
    "            epoch_all += len(predictions)\n",
    "            epoch_true += (predictions == labels).sum()\n",
    "      \n",
    "            if test:\n",
    "                wrong_ps += images[predictions != labels].tolist()\n",
    "                wrong_ls += labels[predictions != labels].tolist()\n",
    "                wrong_pr += predictions[predictions != labels].tolist()\n",
    "\n",
    "            val_loss += epoch_loss * dataloader.batch_size\n",
    "    \n",
    "    if test:\n",
    "        return val_loss, epoch_true, epoch_all, (wrong_ps, wrong_ls, wrong_pr)\n",
    "    return val_loss, epoch_true, epoch_all"
   ]
  },
  {
   "cell_type": "code",
   "execution_count": null,
   "metadata": {
    "colab": {
     "base_uri": "https://localhost:8080/"
    },
    "id": "lyCVVo742PPQ",
    "outputId": "318938bc-0cbb-4c3a-d859-59b40838d079"
   },
   "outputs": [
    {
     "name": "stdout",
     "output_type": "stream",
     "text": [
      "[Epoch 0]\tTrain Loss: 0.5484\tValidation Loss: 0.2979\tTrain Acc: 87.14%\tVal Acc: 91.65%\n",
      "[Epoch 1]\tTrain Loss: 0.2668\tValidation Loss: 0.2348\tTrain Acc: 92.44%\tVal Acc: 93.52%\n",
      "[Epoch 2]\tTrain Loss: 0.2130\tValidation Loss: 0.1978\tTrain Acc: 94.10%\tVal Acc: 94.52%\n",
      "[Epoch 3]\tTrain Loss: 0.1761\tValidation Loss: 0.1684\tTrain Acc: 95.05%\tVal Acc: 95.22%\n",
      "[Epoch 4]\tTrain Loss: 0.1489\tValidation Loss: 0.1486\tTrain Acc: 95.77%\tVal Acc: 95.90%\n",
      "[Epoch 5]\tTrain Loss: 0.1276\tValidation Loss: 0.1335\tTrain Acc: 96.45%\tVal Acc: 96.15%\n",
      "[Epoch 6]\tTrain Loss: 0.1108\tValidation Loss: 0.1182\tTrain Acc: 96.95%\tVal Acc: 96.53%\n",
      "[Epoch 7]\tTrain Loss: 0.0972\tValidation Loss: 0.1118\tTrain Acc: 97.25%\tVal Acc: 96.82%\n",
      "[Epoch 8]\tTrain Loss: 0.0857\tValidation Loss: 0.1035\tTrain Acc: 97.59%\tVal Acc: 97.10%\n",
      "[Epoch 9]\tTrain Loss: 0.0766\tValidation Loss: 0.0960\tTrain Acc: 97.91%\tVal Acc: 97.48%\n",
      "[Epoch 10]\tTrain Loss: 0.0680\tValidation Loss: 0.0940\tTrain Acc: 98.11%\tVal Acc: 97.40%\n",
      "[Epoch 11]\tTrain Loss: 0.0612\tValidation Loss: 0.0890\tTrain Acc: 98.37%\tVal Acc: 97.62%\n",
      "[Epoch 12]\tTrain Loss: 0.0551\tValidation Loss: 0.0855\tTrain Acc: 98.52%\tVal Acc: 97.82%\n",
      "[Epoch 13]\tTrain Loss: 0.0498\tValidation Loss: 0.0839\tTrain Acc: 98.66%\tVal Acc: 97.75%\n",
      "[Epoch 14]\tTrain Loss: 0.0444\tValidation Loss: 0.0802\tTrain Acc: 98.82%\tVal Acc: 97.82%\n",
      "[Epoch 15]\tTrain Loss: 0.0404\tValidation Loss: 0.0806\tTrain Acc: 98.95%\tVal Acc: 97.63%\n",
      "[Epoch 16]\tTrain Loss: 0.0364\tValidation Loss: 0.0799\tTrain Acc: 99.11%\tVal Acc: 97.90%\n",
      "[Epoch 17]\tTrain Loss: 0.0331\tValidation Loss: 0.0751\tTrain Acc: 99.23%\tVal Acc: 97.83%\n",
      "[Epoch 18]\tTrain Loss: 0.0299\tValidation Loss: 0.0746\tTrain Acc: 99.33%\tVal Acc: 98.07%\n",
      "[Epoch 19]\tTrain Loss: 0.0270\tValidation Loss: 0.0742\tTrain Acc: 99.40%\tVal Acc: 97.93%\n",
      "[Epoch 20]\tTrain Loss: 0.0243\tValidation Loss: 0.0724\tTrain Acc: 99.50%\tVal Acc: 97.93%\n",
      "[Epoch 21]\tTrain Loss: 0.0220\tValidation Loss: 0.0737\tTrain Acc: 99.54%\tVal Acc: 97.90%\n",
      "[Epoch 22]\tTrain Loss: 0.0196\tValidation Loss: 0.0734\tTrain Acc: 99.68%\tVal Acc: 97.88%\n",
      "[Epoch 23]\tTrain Loss: 0.0179\tValidation Loss: 0.0728\tTrain Acc: 99.66%\tVal Acc: 98.17%\n",
      "[Epoch 24]\tTrain Loss: 0.0161\tValidation Loss: 0.0754\tTrain Acc: 99.74%\tVal Acc: 97.90%\n",
      "[Epoch 25]\tTrain Loss: 0.0145\tValidation Loss: 0.0701\tTrain Acc: 99.78%\tVal Acc: 98.18%\n",
      "[Epoch 26]\tTrain Loss: 0.0129\tValidation Loss: 0.0706\tTrain Acc: 99.82%\tVal Acc: 98.03%\n",
      "[Epoch 27]\tTrain Loss: 0.0116\tValidation Loss: 0.0775\tTrain Acc: 99.83%\tVal Acc: 97.90%\n",
      "[Epoch 28]\tTrain Loss: 0.0105\tValidation Loss: 0.0730\tTrain Acc: 99.87%\tVal Acc: 98.12%\n",
      "[Epoch 29]\tTrain Loss: 0.0093\tValidation Loss: 0.0738\tTrain Acc: 99.89%\tVal Acc: 98.13%\n"
     ]
    }
   ],
   "source": [
    "num_epochs = 30\n",
    "train_loss_arr, val_loss_arr = [], []\n",
    "for epoch in range(num_epochs):\n",
    "\n",
    "    # Place your code here (5 points)\n",
    "    ## Hint: Loop throught train_loader, get images with their labels and train the model\n",
    "    ## Hint 2: To update train_loss inside the loop use \"train_loss += batch_loss * batch_size\"\"\n",
    "    train_loss, train_true, train_all = train_epoch(model, criterion, optimizer, train_loader)\n",
    "  \n",
    "    # Place your code here (4 points)\n",
    "    ## Hint: Loop throught val_loader, get images with their labels and evaluate the model\n",
    "    ## Hint 2: To update val_loss inside the loop use \"val_loss += batch_loss * batch_size\"\"\n",
    "    val_loss, val_true, val_all = eval_epoch(model, criterion, val_loader, False)\n",
    "\n",
    "    train_loss /= len(train_loader.dataset)\n",
    "    val_loss /= len(val_loader.dataset)\n",
    "    train_loss_arr.append(train_loss)\n",
    "    val_loss_arr.append(val_loss)\n",
    "\n",
    "    \n",
    "    print(f'[Epoch {epoch}]\\t'\n",
    "        f'Train Loss: {train_loss:.4f}\\t'\n",
    "        f'Validation Loss: {val_loss:.4f}\\t'\n",
    "        f'Train Acc: {train_true * 100. / train_all:.2f}%\\t'\n",
    "        f'Val Acc: {val_true * 100. / val_all:.2f}%'\n",
    "    )"
   ]
  },
  {
   "cell_type": "markdown",
   "metadata": {
    "id": "oe3KbjZG2mNd"
   },
   "source": [
    "#### Plot train/validation loss"
   ]
  },
  {
   "cell_type": "code",
   "execution_count": null,
   "metadata": {
    "colab": {
     "base_uri": "https://localhost:8080/",
     "height": 295
    },
    "id": "nNwH8WMy2qmr",
    "outputId": "dcae917d-30f6-4490-edba-87825c1bd606"
   },
   "outputs": [
    {
     "data": {
      "image/png": "[encoded data removed]",
      "text/plain": [
       "<Figure size 432x288 with 1 Axes>"
      ]
     },
     "metadata": {
      "needs_background": "light"
     },
     "output_type": "display_data"
    }
   ],
   "source": [
    "def plot_loss(train_loss, val_loss, epochs):\n",
    "    plt.plot(epochs, train_loss, color='purple', label='train')\n",
    "    plt.plot(epochs, val_loss, color='blue', label='validation')\n",
    "    plt.title(f'Train/Validation Loss')\n",
    "    plt.ylabel('loss')\n",
    "    plt.xlabel('epoch')\n",
    "    plt.legend()\n",
    "    plt.show()\n",
    "\n",
    "plot_loss(train_loss_arr, val_loss_arr, list(range(num_epochs)))"
   ]
  },
  {
   "cell_type": "markdown",
   "metadata": {
    "id": "AKsD6NhU2w71"
   },
   "source": [
    "### Evaluation"
   ]
  },
  {
   "cell_type": "markdown",
   "metadata": {
    "id": "oZcXJuWX255T"
   },
   "source": [
    "Evaluate your model on test set. you have to report both loss and accuracy.\n",
    "\n",
    "In order to get the full score of this section, you need to achieve an accuracy above $95\\%$ and to get the extra points, your accuracy should be above $98\\%$ \n",
    "\n",
    "**Notice:** You should use test set only for evaluation of your model."
   ]
  },
  {
   "cell_type": "code",
   "execution_count": null,
   "metadata": {
    "colab": {
     "base_uri": "https://localhost:8080/"
    },
    "id": "bl4bsjhg2xMo",
    "outputId": "f2301a09-2bfd-4356-8844-ee72ae136c8a"
   },
   "outputs": [
    {
     "name": "stdout",
     "output_type": "stream",
     "text": [
      "Loss: 0.06748581080628792 - Acc: 98.05%\n"
     ]
    }
   ],
   "source": [
    "# Place your code here (4 points + 5 Extra)\n",
    "test_loss, e_true, e_all, wrongs = eval_epoch(model, criterion, test_loader, True)\n",
    "print(f'Loss: {test_loss / len(test_loader.dataset)} - Acc: {e_true * 100. / e_all:.2f}%')"
   ]
  },
  {
   "cell_type": "markdown",
   "metadata": {
    "id": "w4eZsFnV3rTi"
   },
   "source": [
    "### Visualization of wrong prediction"
   ]
  },
  {
   "cell_type": "markdown",
   "metadata": {
    "id": "y9jvB_lZ3uqx"
   },
   "source": [
    "Visualize $8$ samples (along with original label and model's prediction) from test set which are labeled wrong by your model"
   ]
  },
  {
   "cell_type": "code",
   "execution_count": null,
   "metadata": {
    "colab": {
     "base_uri": "https://localhost:8080/",
     "height": 482
    },
    "id": "8rLlhJvE4IjZ",
    "outputId": "4bd2f447-8065-4540-f547-e9a69e0cc9e7"
   },
   "outputs": [
    {
     "data": {
      "image/png": "[encoded data removed]",
      "text/plain": [
       "<Figure size 1152x576 with 8 Axes>"
      ]
     },
     "metadata": {},
     "output_type": "display_data"
    }
   ],
   "source": [
    "# Place your code here (5 points)\n",
    "idxs = np.random.randint(len(wrongs[0]), size=8)\n",
    "samples = [np.array(wrongs[0][idx]).reshape(1, 28, 28) for idx in idxs]\n",
    "labels = [f'real: {wrongs[1][idx]}, predicted: {wrongs[2][idx]}' for idx in idxs]\n",
    "plot(samples, 2, 4, labels, cmap='gray')"
   ]
  }
 ],
 "metadata": {
  "accelerator": "GPU",
  "colab": {
   "collapsed_sections": [],
   "name": "Q2.ipynb",
   "provenance": []
  },
  "interpreter": {
   "hash": "f336af7d54ba0f0c1daaf2256eb85f31e983e88153daf7a27ef3ea6c724faba4"
  },
  "kernelspec": {
   "display_name": "Python 3 (ipykernel)",
   "language": "python",
   "name": "python3"
  },
  "language_info": {
   "codemirror_mode": {
    "name": "ipython",
    "version": 3
   },
   "file_extension": ".py",
   "mimetype": "text/x-python",
   "name": "python",
   "nbconvert_exporter": "python",
   "pygments_lexer": "ipython3",
   "version": "3.10.0"
  }
 },
 "nbformat": 4,
 "nbformat_minor": 1
}
