{
 "cells": [
  {
   "cell_type": "markdown",
   "metadata": {},
   "source": [
    "<div align=center>\n",
    "\t\t\n",
    "<p></p>\n",
    "<p></p>\n",
    "<font size=5>\n",
    "In the Name of God\n",
    "<font/>\n",
    "<p></p>\n",
    " <br/>\n",
    "    <br/>\n",
    "    <br/>\n",
    "<font color=#FF7500>\n",
    "Sharif University of Technology - Departmenet of Computer Engineering\n",
    "</font>\n",
    "<p></p>\n",
    "<font color=blue>\n",
    "Artifical Intelligence - Dr. Mohammad Hossein Rohban\n",
    "</font>\n",
    "<br/>\n",
    "<br/>\n",
    "Fall 2021\n",
    "\n",
    "</div>\n",
    "\n",
    "<hr/>\n",
    "\t\t<div align=center>\n",
    "\t\t    <font color=red size=6>\n",
    "\t\t\t    <br />\n",
    "Practical Assignment 3\n",
    "            \t<br/>\n",
    "\t\t\t</font>\n",
    "    <br/>\n",
    "    <br/>\n",
    "<font size=4>\n",
    "\t\t\t<br/><br/>\n",
    "Deadline: Azar 18th\n",
    "                <br/><b>\n",
    "              Cheating is Strongly Prohibited\n",
    "                </b><br/><br/>\n",
    "                <font color=red>\n",
    "Please run all the cells.\n",
    "     </font>\n",
    "</font>\n",
    "                <br/>\n",
    "    </div>"
   ]
  },
  {
   "cell_type": "markdown",
   "metadata": {},
   "source": [
    "# Personal Data"
   ]
  },
  {
   "cell_type": "code",
   "execution_count": 1,
   "metadata": {
    "collectable": true,
    "execution": {
     "iopub.execute_input": "2021-10-01T16:01:36.762477Z",
     "iopub.status.busy": "2021-10-01T16:01:36.762155Z",
     "iopub.status.idle": "2021-10-01T16:01:36.764025Z",
     "shell.execute_reply": "2021-10-01T16:01:36.763754Z"
    }
   },
   "outputs": [],
   "source": [
    "# Set your student number\n",
    "student_number = 98101822\n",
    "Name = 'یلدا'\n",
    "Last_Name = 'شعبان زاده'"
   ]
  },
  {
   "cell_type": "markdown",
   "metadata": {},
   "source": [
    "# Rules\n",
    "- You are not allowed to add or remove cells. You **must use the provided space to write your code**. If you don't follow this rule, **your Practical Assignment won't be graded**. \n",
    "- There is one cell for your custom functions (if you need any) at the beginning of each question. Please note that this jupyter file might be broken down into 3 or 4 jupyter notebooks for easier grading, so you **must write your custom functions in the correct cell**.\n",
    "- By running the cell below, you can see if your jupyter file is accepted or not. This cell will also **generate a python file which you'll have to upload to Quera** (as well as your jupyter file). The python file will later be validated and if the code in both files doesn't match, **your Practical Assignment won't be graded**.\n",
    "- This assignment is due Azar 18th 23:59:59. you can use up to 10 grace days for this assignment and the hard deadline is Azar 28th 23:59:59."
   ]
  },
  {
   "cell_type": "code",
   "execution_count": 294,
   "metadata": {},
   "outputs": [
    {
     "name": "stdout",
     "output_type": "stream",
     "text": [
      "your jupyter file will be graded\n"
     ]
    }
   ],
   "source": [
    "# remember to save your jupyter file before running this script\n",
    "from Helper_codes.validator import *\n",
    "\n",
    "python_code = extract_python(\"./questions.ipynb\")\n",
    "with open(f'python_code_{student_number}.py', 'w') as file:\n",
    "    file.write(python_code)"
   ]
  },
  {
   "cell_type": "markdown",
   "metadata": {},
   "source": [
    "# Q1 (30+5 Points)"
   ]
  },
  {
   "cell_type": "markdown",
   "metadata": {},
   "source": [
    "<font size=4>\n",
    "Author: Pooya Moini\n",
    "\t\t\t<br/>\n",
    "                <font color=red>\n",
    "Please run all the cells.\n",
    "     </font>\n",
    "</font>\n",
    "                <br/>\n",
    "    </div>"
   ]
  },
  {
   "cell_type": "markdown",
   "metadata": {
    "collectable": true
   },
   "source": [
    "# Bayesian Networks"
   ]
  },
  {
   "cell_type": "markdown",
   "metadata": {},
   "source": [
    "In this programming assignment, we will investigate the structure of the binarized MNIST dataset of handwritten digits using Bayesian networks. The dataset contains images of handwritten digits with dimensions $28 \\times 28$ (784) pixels. Consider the Bayesian network in Figure 1 . The network contains two layers of variables. The variables in the bottom layer, $X_{1: 784}$ denote the pixel values of the flattened image. The variables in the top layer, $Z_{1}$ and $Z_{2}$, are referred to as latent variables, because the value of these variables will not be explicitly provided by the data and will have to be inferred."
   ]
  },
  {
   "cell_type": "markdown",
   "metadata": {},
   "source": [
    "![Figure1](./Images/fig1.png)"
   ]
  },
  {
   "cell_type": "markdown",
   "metadata": {},
   "source": [
    "The Bayesian network specifies a joint probability distribution over binary images and latent variables $p\\left(Z_{1}, Z_{2}, X_{1: 784}\\right)$. The model is trained so that the marginal probability of the manifest variables, $p\\left(x_{1: 784}\\right)=\\sum_{z_{1}, z_{2}} p\\left(z_{1}, z_{2}, x_{1: 784}\\right)$ is high on images that look like digits, and low for other images. \n",
    "\n",
    "For this programming assignment, we provide a pretrained model trained_mnist_model. The starter code loads this model and provides functions to directly access the conditional probability tables. Further, we simplify the problem by discretizing the latent and manifest variables such that $\\operatorname{Val}\\left(Z_{1}\\right)=\\operatorname{Val}\\left(Z_{2}\\right)=\\{-3,-2.75, \\ldots, 2.75,3\\}$ and $\\operatorname{Val}\\left(X_{j}\\right)=\\{0,1\\}$, i.e., the image is binary."
   ]
  },
  {
   "cell_type": "markdown",
   "metadata": {},
   "source": [
    "### 1. \n",
    "How many values can the random vector $X_{1: 784}$ take, i.e., how many different $28 \\times 28$ binary images are there?\n",
    "\n",
    "How many parameters would you need to specify an arbitrary probability distribution over all possible $28 \\times 28$ binary images? (5 points)\n",
    "\n",
    "#### 1. answers\n",
    "<br>\n",
    "<font color='darkblue'>\n",
    "    The random vector $X_{1:784}$ can take $2^{784}$ possible values  i.e. there are $2^{784}$ different binary images.\n",
    "    <br><br>\n",
    "    $2^{784} - 1$ paramaters are needed to specify an arbitrary probability distribution over all possible $28×28$ binary images the images.\n",
    "</font>"
   ]
  },
  {
   "cell_type": "code",
   "execution_count": 2,
   "metadata": {
    "collectable": true
   },
   "outputs": [],
   "source": [
    "possible_values_count = 2 ** 784\n",
    "parameters_count = 2 ** 784 - 1"
   ]
  },
  {
   "cell_type": "code",
   "execution_count": 3,
   "metadata": {
    "collectable": true
   },
   "outputs": [
    {
     "name": "stdout",
     "output_type": "stream",
     "text": [
      "1.02e+236\n"
     ]
    }
   ],
   "source": [
    "print('{:.2e}'.format(possible_values_count))"
   ]
  },
  {
   "cell_type": "markdown",
   "metadata": {},
   "source": [
    "Run below codes to load the network and its functions."
   ]
  },
  {
   "cell_type": "code",
   "execution_count": 2,
   "metadata": {},
   "outputs": [],
   "source": [
    "import numpy as np\n",
    "import matplotlib.pyplot as plt\n",
    "import pickle as pkl\n",
    "from scipy.io import loadmat\n",
    "\n",
    "\n",
    "NUM_PIXELS = 28 * 28"
   ]
  },
  {
   "cell_type": "code",
   "execution_count": 3,
   "metadata": {},
   "outputs": [],
   "source": [
    "def get_p_z1(z1_val):\n",
    "    '''\n",
    "    Helper. Computes the prior probability for variable z1 to take value z1_val.\n",
    "    P(Z1=z1_val)\n",
    "    '''\n",
    "\n",
    "    return bayes_net['prior_z1'][z1_val]\n",
    "\n",
    "\n",
    "def get_p_z2(z2_val):\n",
    "    '''\n",
    "    Helper. Computes the prior probability for variable z2 to take value z2_val.\n",
    "    P(Z2=z2_val)\n",
    "    '''\n",
    "\n",
    "    return bayes_net['prior_z2'][z2_val]\n"
   ]
  },
  {
   "cell_type": "code",
   "execution_count": 4,
   "metadata": {},
   "outputs": [],
   "source": [
    "def get_p_xk_cond_z1_z2(z1_val, z2_val, k):\n",
    "    '''\n",
    "    Helper. Computes the conditional probability that variable xk assumes value 1\n",
    "    given that z1 assumes value z1_val and z2 assumes value z2_val\n",
    "    P(Xk = 1 | Z1=z1_val , Z2=z2_val)\n",
    "    '''\n",
    "\n",
    "    return bayes_net['cond_likelihood'][(z1_val, z2_val)][0, k - 1]\n",
    "\n",
    "\n",
    "def get_p_x_cond_z1_z2(z1_val, z2_val):\n",
    "    '''\n",
    "    Computes the conditional probability of the entire vector x for x = 1,\n",
    "    given that z1 assumes value z1_val and z2 assumes value z2_val\n",
    "    '''\n",
    "    pk = np.zeros(NUM_PIXELS)\n",
    "    for i in range(NUM_PIXELS):\n",
    "        pk[i] = get_p_xk_cond_z1_z2(z1_val, z2_val, i + 1)\n",
    "    return pk"
   ]
  },
  {
   "cell_type": "code",
   "execution_count": 5,
   "metadata": {},
   "outputs": [],
   "source": [
    "def load_model(model_file):\n",
    "    '''\n",
    "    Loads a default Bayesian network with latent variables (in this case, a\n",
    "    variational autoencoder)\n",
    "    '''\n",
    "\n",
    "    with open('Helper_codes/trained_mnist_model', 'rb') as infile:\n",
    "        cpts = pkl.load(infile, encoding='bytes')\n",
    "\n",
    "    model = {}\n",
    "    model['prior_z1'] = cpts[0]\n",
    "    model['prior_z2'] = cpts[1]\n",
    "    model['cond_likelihood'] = cpts[2]\n",
    "\n",
    "    return model"
   ]
  },
  {
   "cell_type": "code",
   "execution_count": 6,
   "metadata": {},
   "outputs": [],
   "source": [
    "global disc_z1, disc_z2\n",
    "n_disc_z = 25\n",
    "disc_z1 = np.linspace(-3, 3, n_disc_z)\n",
    "disc_z2 = np.linspace(-3, 3, n_disc_z)\n",
    "\n",
    "global bayes_net\n",
    "bayes_net = load_model('Helper_codes/trained_mnist_model')"
   ]
  },
  {
   "cell_type": "markdown",
   "metadata": {},
   "source": [
    "### 2.\n",
    "Produce 5 samples from the joint probability distribution $\\left(z_{1}, z_{2}, x_{1: 784}\\right) \\sim p\\left(Z_{1}, Z_{2}, X_{1: 784}\\right)$, and plot the corresponding images (values of the pixel variables). (7 points)"
   ]
  },
  {
   "cell_type": "code",
   "execution_count": 7,
   "metadata": {
    "collectable": true
   },
   "outputs": [],
   "source": [
    "def get_dist_samples(disc, prob_func):\n",
    "    return np.random.choice(\n",
    "        disc,\n",
    "        p=[prob_func(val) for val in disc]\n",
    "    )\n",
    "\n",
    "def sample_joint_z1_z2_x():\n",
    "    z1_sample = get_dist_samples(disc_z1, get_p_z1)\n",
    "    z2_sample = get_dist_samples(disc_z2, get_p_z2)\n",
    "    cond_dist = get_p_x_cond_z1_z2(z1_sample, z2_sample)\n",
    "    return np.array([\n",
    "        np.random.choice([1, 0], p=[prob, 1 - prob]) \n",
    "        for prob in cond_dist\n",
    "    ])\n",
    "\n",
    "def plot_sampled_pixels(count=5):\n",
    "    _, axs = plt.subplots(1, 5, figsize=(12, 16))\n",
    "    for ax in axs:\n",
    "        ax.imshow(sample_joint_z1_z2_x().reshape(28, 28), cmap='gray')\n",
    "        ax.axis('off')"
   ]
  },
  {
   "cell_type": "code",
   "execution_count": 9,
   "metadata": {
    "collectable": true
   },
   "outputs": [
    {
     "data": {
      "image/png": "[encoded data removed]",
      "text/plain": [
       "<Figure size 864x1152 with 5 Axes>"
      ]
     },
     "metadata": {
      "needs_background": "light"
     },
     "output_type": "display_data"
    }
   ],
   "source": [
    "plot_sampled_pixels()"
   ]
  },
  {
   "cell_type": "markdown",
   "metadata": {},
   "source": [
    "### 3.\n",
    "\n",
    "For each possible value of\n",
    "$$\n",
    "\\left(\\bar{z}_{1}, \\bar{z}_{2}\\right) \\in\\{-3,-2.75, \\ldots, 2.75,3\\} \\times\\{-3,-2.75, \\ldots, 2.75,3\\}\n",
    "$$\n",
    "compute the conditional expectation $E\\left[X_{1: 784} \\mid Z_{1}, Z_{2}=\\left(\\bar{z}_{1}, \\bar{z}_{2}\\right)\\right] .$ This is the expected image corresponding to each possible value of the latent variables $Z_{1}, Z_{2} .$ Plot the images on on a $2 \\mathrm{D}$ grid where the grid axes correspond to $Z_{1}$ and $Z_{2}$ respectively. What is the intuitive role of the $Z_{1}, Z_{2}$ variables in this model? (8 points)"
   ]
  },
  {
   "cell_type": "code",
   "execution_count": 72,
   "metadata": {
    "collectable": true
   },
   "outputs": [],
   "source": [
    "def sample_cond_exp_z():\n",
    "    nz1, nz2 = len(disc_z1), len(disc_z2)\n",
    "    samples = np.zeros((28 * nz1, 28 * nz2))\n",
    "    for i, z1_val in enumerate(disc_z1):\n",
    "        for j, z2_val in enumerate(disc_z2):\n",
    "            '''X follows Bern(p) so E[X_1:784 | Z1, Z2] = P(X_1:784 | Z1, Z2)'''\n",
    "            exp = get_p_x_cond_z1_z2(z1_val, z2_val).reshape(28, 28)\n",
    "            samples[\n",
    "                j * 28:(j + 1) * 28, i * 28:(i + 1) * 28\n",
    "            ] = exp\n",
    "    return samples"
   ]
  },
  {
   "cell_type": "code",
   "execution_count": 75,
   "metadata": {
    "collectable": true
   },
   "outputs": [
    {
     "data": {
      "image/png": "[encoded data removed]",
      "text/plain": [
       "<Figure size 360x360 with 1 Axes>"
      ]
     },
     "metadata": {
      "needs_background": "light"
     },
     "output_type": "display_data"
    }
   ],
   "source": [
    "def plot_z1_z2():\n",
    "    samples = sample_cond_exp_z()\n",
    "    plt.figure(figsize=(5, 5))\n",
    "    plt.imshow(samples, extent=([-3, 3, 3, -3]), cmap='gray')\n",
    "    plt.xlabel('$Z_1$')\n",
    "    plt.ylabel('$Z_2$')\n",
    "    plt.title('$E[X_{1:784} | Z_1, Z_2]$')\n",
    "    plt.show()\n",
    "    plt.close()\n",
    "\n",
    "plot_z1_z2()"
   ]
  },
  {
   "cell_type": "code",
   "execution_count": 41,
   "metadata": {},
   "outputs": [],
   "source": [
    "mat = loadmat('Helper_codes/testval.mat')\n",
    "val_data = mat['val_x']\n",
    "test_data = mat['test_x']"
   ]
  },
  {
   "cell_type": "markdown",
   "metadata": {},
   "source": [
    "### 4.\n",
    "You are given a validation and a test dataset. In the test dataset, some images are \"real\" handwritten digits, and some are anomalous (corrupted images). We would like to use our Bayesian network to distinguish real images from the anomalous ones. Intuitively, our Bayesian network should assign low probability to corrupted images and high probability to the real ones, and we can use this for classification. To do this, we first compute the average marginal log-likelihood,\n",
    "$$\n",
    "\\log p\\left(x_{1: 784}\\right)=\\log \\sum_{z_{1}} \\sum_{z_{2}} p\\left(z_{1}, z_{2}, x_{1: 784}\\right)\n",
    "$$\n",
    "on the validation dataset, and the standard deviation (again, standard deviation over the validation set). Consider a simple prediction rule where images with marginal log-likelihood, $\\log p\\left(x_{1: 784}\\right)$, outside three standard deviations of the average marginal log-likelihood are classified as corrupted. Classify images in the test set as corrupted or real using this rule. Then plot a histogram of the marginal log-likelihood for the images classified as \"real\". Plot a separate histogram of the marginal log-likelihood for the images classified as \"corrupted\". (15 points)"
   ]
  },
  {
   "cell_type": "markdown",
   "metadata": {},
   "source": [
    "<font color='darkblue'>\n",
    "$$\n",
    "\\log p\\left(x_{1: 784}\\right)=\\log \\sum_{z_{1}} \\sum_{z_{2}} p\\left(z_{1}, z_{2}, x_{1: 784}\\right)\n",
    "=\\sum_{z_{1}} \\sum_{z_{2}}\\log p\\left(z_{1}, z_{2}, x_{1: 784}\\right)\n",
    "=\\sum_{z_{1}} \\sum_{z_{2}}\\log [p\\left(z_{1})p(z_{2})p(x_{1: 784} | z_1, z_2)\\right)]\n",
    "$$\n",
    "</font>"
   ]
  },
  {
   "cell_type": "code",
   "execution_count": 137,
   "metadata": {
    "collectable": true
   },
   "outputs": [],
   "source": [
    "MIN_VAL = 10 ** -323\n",
    "\n",
    "def get_p_x_one_cond_z1_z2_2(z1_val, z2_val):\n",
    "    return np.array([\n",
    "        get_p_xk_cond_z1_z2(z1_val, z2_val, k + 1) for k in range(NUM_PIXELS)\n",
    "    ])\n",
    "\n",
    "\n",
    "def get_x_one_cond_z1_z2_dict():\n",
    "    '''(Z1, Z2) : P(X = 1 | Z1, Z2)'''\n",
    "    total = {}\n",
    "    total.update({\n",
    "        (z1_val, z2_val): get_p_x_one_cond_z1_z2_2(z1_val, z2_val)\n",
    "        for z2_val in disc_z2\n",
    "        for z1_val in disc_z1\n",
    "    })\n",
    "    return total\n",
    "\n",
    "\n",
    "def get_p_x_z1_z2(net_zs_dict, z1_val, z2_val, sample):\n",
    "    p_one_cond = net_zs_dict[(z1_val, z2_val)]\n",
    "    prob = np.where(sample == 1, p_one_cond, 1 - p_one_cond)\n",
    "    return get_p_z1(z1_val) * get_p_z2(z2_val) * np.prod(prob, dtype=np.float64)\n",
    "\n",
    "\n",
    "def compute_log_likelihoods(data, net_zs_dict):\n",
    "    log_likelihoods = []\n",
    "    for sample in data:\n",
    "        prob = np.sum(np.array([\n",
    "            get_p_x_z1_z2(net_zs_dict, z1_val, z2_val, sample)\n",
    "            for z1_val in disc_z1\n",
    "            for z2_val in disc_z2\n",
    "        ]))\n",
    "        log_likelihoods.append(np.log(prob if prob != 0 else MIN_VAL))\n",
    "    return np.array(log_likelihoods)"
   ]
  },
  {
   "cell_type": "code",
   "execution_count": 105,
   "metadata": {
    "collectable": true
   },
   "outputs": [],
   "source": [
    "def plot_histogram(\n",
    "    data, title='histogram', xlabel='marginal log-likelihood', ylabel='frequency'\n",
    "):\n",
    "    plt.figure()\n",
    "    plt.hist(data, color='purple')\n",
    "    plt.xlabel(xlabel)\n",
    "    plt.ylabel(ylabel)\n",
    "    plt.title(title)\n",
    "    plt.show()\n",
    "    plt.close()\n",
    "\n",
    "\n",
    "def get_mean_std(data):\n",
    "    return np.mean(data), np.std(data)\n",
    "\n",
    "\n",
    "def is_real_image(valid_log_ll, test_log_ll):\n",
    "    val_mean, val_std = get_mean_std(valid_log_ll)\n",
    "    return np.abs(test_log_ll - val_mean) <= (3 * val_std)"
   ]
  },
  {
   "cell_type": "code",
   "execution_count": 138,
   "metadata": {
    "collectable": true,
    "scrolled": false
   },
   "outputs": [
    {
     "data": {
      "image/png": "[encoded data removed]",
      "text/plain": [
       "<Figure size 432x288 with 1 Axes>"
      ]
     },
     "metadata": {
      "needs_background": "light"
     },
     "output_type": "display_data"
    },
    {
     "data": {
      "image/png": "[encoded data removed]",
      "text/plain": [
       "<Figure size 432x288 with 1 Axes>"
      ]
     },
     "metadata": {
      "needs_background": "light"
     },
     "output_type": "display_data"
    }
   ],
   "source": [
    "def run():\n",
    "    zs_dict = get_x_one_cond_z1_z2_dict()\n",
    "    valid_log_ll = compute_log_likelihoods(val_data, zs_dict)\n",
    "    test_log_ll = compute_log_likelihoods(test_data, zs_dict)\n",
    "    is_real = is_real_image(valid_log_ll, test_log_ll)\n",
    "    real = test_log_ll[is_real]\n",
    "    corrupted = test_log_ll[~is_real]\n",
    "    plot_histogram(real, title='Histogram of marginal log-likelihood for real data')\n",
    "    plot_histogram(corrupted, title='Histogram of marginal log-likelihood for corrupted data')\n",
    "\n",
    "run()"
   ]
  },
  {
   "cell_type": "markdown",
   "metadata": {},
   "source": [
    "# Q2 (40 Points)"
   ]
  },
  {
   "cell_type": "markdown",
   "metadata": {},
   "source": [
    "<font size=4>\n",
    "Author: Mohammad Mahdi Asmae\n",
    "\t\t\t<br/>\n",
    "                <font color=red>\n",
    "Please run all the cells.\n",
    "     </font>\n",
    "</font>\n",
    "                <br/>\n",
    "    </div>"
   ]
  },
  {
   "cell_type": "markdown",
   "metadata": {
    "collectable": true
   },
   "source": [
    "# Sampling in Bayesian Network"
   ]
  },
  {
   "cell_type": "markdown",
   "metadata": {},
   "source": [
    "In this assignment, we will implement diffrent methods of sampling and try to compare the methods by varying queries and number of samples. In the next section you will implement Bayesian Network as a Python class with these methods:\n",
    "\n",
    "* CPT: returns conditional probability table of nodes\n",
    "* PMF: returns probability mass function of given query\n",
    "* Sampling: implementation of different sampling methods\n",
    "    \n",
    "We will use following BN in this problem."
   ]
  },
  {
   "cell_type": "markdown",
   "metadata": {},
   "source": [
    "<img src=\"Images/BN.png\" width=1400 height=1200 />"
   ]
  },
  {
   "cell_type": "code",
   "execution_count": 1,
   "metadata": {
    "collectable": true
   },
   "outputs": [],
   "source": [
    "import random\n",
    "import numpy as np\n",
    "import matplotlib.pyplot as plt\n",
    "\n",
    "from math import isclose\n",
    "from copy import deepcopy\n",
    "from typing import Tuple\n",
    "\n",
    "\n",
    "np.random.seed(1)"
   ]
  },
  {
   "cell_type": "code",
   "execution_count": 2,
   "metadata": {
    "collectable": true
   },
   "outputs": [],
   "source": [
    "class NodeMissedException(Exception):\n",
    "    pass\n",
    "\n",
    "\n",
    "def extend(e, var, val):\n",
    "    return {**e, var: val}\n",
    "\n",
    "\n",
    "def is_true(p):\n",
    "    return p > random.uniform(0.0, 1.0)\n",
    "\n",
    "\n",
    "def is_compatible(s, e):\n",
    "    if isinstance(e, list):\n",
    "        e = dict(e)\n",
    "    return all(key in s and s[key] == e[key] for key in e)"
   ]
  },
  {
   "cell_type": "code",
   "execution_count": 3,
   "metadata": {
    "collectable": true
   },
   "outputs": [],
   "source": [
    "class Node:\n",
    "\n",
    "    def __init__(self, name, parents, prob_table):\n",
    "        self.name = name\n",
    "        self._parents = parents or []\n",
    "        self._children = []\n",
    "        self._prob_table = prob_table\n",
    "\n",
    "    def __eq__(self, other):\n",
    "        return self.name == other.name\n",
    "\n",
    "    @property\n",
    "    def children(self):\n",
    "        return deepcopy(self._children)\n",
    "\n",
    "    @property\n",
    "    def parents(self):\n",
    "        return deepcopy(self._parents)\n",
    "\n",
    "    @classmethod\n",
    "    def get_event_values(cls, event, variables) -> Tuple:\n",
    "        return tuple([event[var] for var in variables])\n",
    "\n",
    "    def add_child(self, child_node):\n",
    "        self._children.append(child_node.name)\n",
    "\n",
    "    def cond_prob(self, event, value):\n",
    "        p = self._prob_table[self.get_event_values(event, self._parents)]\n",
    "        return p if value else 1 - p\n",
    "\n",
    "    def sample(self, event):\n",
    "        return is_true(self.cond_prob(event, True))\n",
    "\n",
    "\n",
    "class ProbDistDict(dict):\n",
    "\n",
    "    def __init__(self, node_name, query=None):\n",
    "        self._node_name = node_name\n",
    "        self.normalize() if query else None\n",
    "        super().__init__(deepcopy(query) if query else {})\n",
    "\n",
    "    def normalize(self):\n",
    "        total = sum(self.values())\n",
    "        self.update({val: p / total for val, p in self.items()}) if not isclose(total, 1.0) else None\n",
    "        return self"
   ]
  },
  {
   "cell_type": "code",
   "execution_count": 4,
   "metadata": {
    "collectable": true
   },
   "outputs": [],
   "source": [
    "class BayesNet:\n",
    "    SAMPLING_METHODS = {\n",
    "        'Prior': 'prior_sampling',\n",
    "        'Gibbs': 'gibbs_sampling',\n",
    "        'Rejection': 'rejection_sampling',\n",
    "        'Likelihood Weighting': 'llw_sampling',\n",
    "    }\n",
    "\n",
    "    def __init__(self, nodes_args):\n",
    "        self.nodes = {}\n",
    "        for args in nodes_args or []:\n",
    "            self.add_node(*args)\n",
    "\n",
    "    @property\n",
    "    def variables(self):\n",
    "        return list(self.nodes.keys())\n",
    "\n",
    "    @property\n",
    "    def values(self):\n",
    "        return [True, False]\n",
    "\n",
    "    @classmethod\n",
    "    def valid_form(cls, query):\n",
    "        if isinstance(query, tuple):\n",
    "            query = dict([query])\n",
    "\n",
    "        if isinstance(query, list):\n",
    "            query = dict(query)\n",
    "\n",
    "        return dict((k, bool(v)) for k, v in deepcopy(query).items())\n",
    "\n",
    "    def _get_variables_count(self):\n",
    "        return {val: 0 for val in self.values}\n",
    "\n",
    "    def _get_node(self, name) -> Node:\n",
    "        try:\n",
    "            return self.nodes[name]\n",
    "        except KeyError:\n",
    "            raise NodeMissedException\n",
    "\n",
    "    def add_node(self, *args):\n",
    "        node = Node(*args)\n",
    "        self.nodes.update({node.name: node})\n",
    "        for parent_name in node.parents:\n",
    "            self._get_node(parent_name).add_child(node)\n",
    "\n",
    "    def cpt(self, node: Node, value):\n",
    "        return node.cond_prob(node.parents, value)\n",
    "\n",
    "    def pmf(self, query, evidence):\n",
    "        var, val = query\n",
    "        return self.enumeration_ask(var, self.valid_form(evidence))[bool(val)]\n",
    "\n",
    "    def enumeration_ask(self, q_var, evidence):\n",
    "        prob_dist = ProbDistDict(q_var)\n",
    "        prob_dist.update({\n",
    "            val: self.enumerate_all(self.variables, extend(evidence, q_var, val))\n",
    "            for val in self.values\n",
    "        })\n",
    "        return prob_dist.normalize()\n",
    "\n",
    "    def enumerate_all(self, variables, evidence):\n",
    "        if not variables:\n",
    "            return 1.0\n",
    "        y, other = variables[0], variables[1:]\n",
    "        y_node = self._get_node(y)\n",
    "        if y in evidence:\n",
    "            return y_node.cond_prob(evidence, evidence[y]) * self.enumerate_all(other, evidence)\n",
    "        else:\n",
    "            return sum(\n",
    "                y_node.cond_prob(evidence, val) * self.enumerate_all(other, extend(evidence, y, val))\n",
    "                for val in self.values\n",
    "            )\n",
    "\n",
    "    def sampling(self, query, evidence, sampling_method, num_iter, num_burning=1e2):\n",
    "        method = self.SAMPLING_METHODS[sampling_method]\n",
    "        func = getattr(self, method)\n",
    "        return func(self.valid_form(query), self.valid_form(evidence), num_iter, num_burning)\n",
    "\n",
    "    def _prior_sample(self):\n",
    "        event = {}\n",
    "        for _, node in self.nodes.items():\n",
    "            event[node.name] = node.sample(event)\n",
    "        return event\n",
    "\n",
    "    def prior_sampling(self, query, evidence, num_iter, n):\n",
    "        e = qe = 0\n",
    "        for _ in range(num_iter):\n",
    "            sample = self._prior_sample()\n",
    "            if is_compatible(sample, evidence):\n",
    "                e += 1\n",
    "                if is_compatible(sample, query):\n",
    "                    qe += 1\n",
    "        return qe / e\n",
    "\n",
    "    def rejection_sampling(self, query, evidence, num_iter, _):\n",
    "        count = e = qe = 0\n",
    "        while count < num_iter:\n",
    "            sample = self._prior_sample()\n",
    "            if is_compatible(sample, evidence):\n",
    "                e += 1\n",
    "                if is_compatible(sample, query):\n",
    "                    qe += 1\n",
    "                count += 1\n",
    "        return qe / e\n",
    "\n",
    "    def _weighted_sample(self, evidence):\n",
    "        w, event = 1.0, dict(evidence)\n",
    "        for _, node in self.nodes.items():\n",
    "            var = node.name\n",
    "            if var in evidence:\n",
    "                w *= node.cond_prob(event, evidence[var])\n",
    "            else:\n",
    "                event[var] = node.sample(event)\n",
    "        return event, w\n",
    "\n",
    "    def llw_sampling(self, query, evidence, num_iter, _):\n",
    "        e = qe = 0\n",
    "        for _ in range(num_iter):\n",
    "            sample, weight = self._weighted_sample(evidence)\n",
    "            e += weight\n",
    "            if is_compatible(sample, query):\n",
    "                qe += weight\n",
    "        return qe / e\n",
    "\n",
    "    def _resample(self, sample, var):\n",
    "        event = deepcopy(sample)\n",
    "        event.pop(var)\n",
    "        query = self.enumeration_ask(var, event)\n",
    "        event[var] = np.random.choice((False, True), p=[query[False], query[True]])\n",
    "        return event\n",
    "\n",
    "    def gibbs_sampling(self, query, evidence, num_iter, num_burning):\n",
    "        compatibles = count = 0\n",
    "        state = dict(evidence)\n",
    "        non_evidence = set(self.variables).difference(set(evidence.keys()))\n",
    "        state.update((var, np.random.choice((False, True))) for var in non_evidence)\n",
    "        for _ in range(int(num_iter + num_burning)):\n",
    "            for var in non_evidence:\n",
    "                state = self._resample(state, var)\n",
    "            count += 1\n",
    "            if count >= num_burning and is_compatible(state, query):\n",
    "                compatibles += 1\n",
    "        return compatibles / num_iter"
   ]
  },
  {
   "cell_type": "code",
   "execution_count": 5,
   "metadata": {
    "collectable": true
   },
   "outputs": [],
   "source": [
    "T, F = True, False\n",
    "\n",
    "net = BayesNet([\n",
    "    ('A', [], {(): 0.8}),\n",
    "    ('B', [], {(): 0.55}),\n",
    "    ('E', 'B', {(T,): 0.3, (F,): 0.9}),\n",
    "    ('C', ['A', 'E'], {(T, T): 0.05, (T, F): 0.5, (F, T): 0.15, (F, F): 0.7}),\n",
    "    ('D', ['A', 'C'], {(T, T): 0.67, (T, F): 0.5, (F, T): 0.65, (F, F): 0.8}),\n",
    "    ('F', 'D', {(T,): 0.2, (F,): 0.25})\n",
    "])"
   ]
  },
  {
   "cell_type": "code",
   "execution_count": 6,
   "metadata": {
    "collectable": true
   },
   "outputs": [
    {
     "data": {
      "text/plain": [
       "0.22075000000000003"
      ]
     },
     "execution_count": 6,
     "metadata": {},
     "output_type": "execute_result"
    }
   ],
   "source": [
    "net.pmf(('F', 1), {'A': 1, 'E': 0})"
   ]
  },
  {
   "cell_type": "code",
   "execution_count": 7,
   "metadata": {
    "collectable": true
   },
   "outputs": [
    {
     "data": {
      "text/plain": [
       "0.7817357621290436"
      ]
     },
     "execution_count": 7,
     "metadata": {},
     "output_type": "execute_result"
    }
   ],
   "source": [
    "net.pmf(('C', 0), {'F': 1, 'D': 0})"
   ]
  },
  {
   "cell_type": "markdown",
   "metadata": {},
   "source": [
    "In this part you will compare sampling results with real probabilities for these settings:\n",
    "\n",
    "* query: $P(F=1|A=1,E=0)$ , $P(C=0|F=1,D=0)$\n",
    "* number of samples: 100, 500, 1000, 3000, 10000, *50000\n",
    "\n",
    "First find the probabilities with inference methods, then find the approximate probabilities for the queries with sampling methods with different number of samples. At the end, you will plot errors of diffrent methods by number of samples."
   ]
  },
  {
   "cell_type": "code",
   "execution_count": 8,
   "metadata": {
    "collectable": true
   },
   "outputs": [],
   "source": [
    "all_methods = list(BayesNet.SAMPLING_METHODS.keys())\n",
    "colors = ['green', 'red', 'blue', 'black', 'yellow', 'pink']\n",
    "samples_counts = [100, 500, 1000, 3000, 10000, 50000]\n",
    "assert len(all_methods) <= len(colors)\n",
    "\n",
    "def sample(bn, query, evidence, method):\n",
    "    return np.array(samples_counts), np.array([\n",
    "        bn.sampling(query, evidence, method, num_iter)\n",
    "        for num_iter in samples_counts\n",
    "    ])\n",
    "\n",
    "\n",
    "def get_error(bn, query, evidence, samples):\n",
    "    exact = bn.pmf(query, evidence)\n",
    "    return np.abs(samples - exact) / exact\n",
    "\n",
    "\n",
    "def plot_comparison(bn, query, evidence):\n",
    "    for i, method in enumerate(all_methods):\n",
    "        x, samples = sample(bn, query, evidence, method)\n",
    "        y = get_error(bn, query, evidence, samples)\n",
    "        plt.plot(x, y, color=colors[i], label=method)\n",
    "    plt.title(f'Comparison between different sampling methods for {query}, {evidence}')\n",
    "    plt.ylabel('error')\n",
    "    plt.xlabel('samples count')\n",
    "    plt.legend()\n",
    "    plt.show()"
   ]
  },
  {
   "cell_type": "code",
   "execution_count": 15,
   "metadata": {
    "collectable": true
   },
   "outputs": [
    {
     "data": {
      "image/png": "[encoded data removed]",
      "text/plain": [
       "<Figure size 432x288 with 1 Axes>"
      ]
     },
     "metadata": {
      "needs_background": "light"
     },
     "output_type": "display_data"
    }
   ],
   "source": [
    "plot_comparison(net, ('F', 1), {'A': 1, 'E': 0})"
   ]
  },
  {
   "cell_type": "code",
   "execution_count": 14,
   "metadata": {
    "collectable": true
   },
   "outputs": [
    {
     "data": {
      "image/png": "[encoded data removed]",
      "text/plain": [
       "<Figure size 432x288 with 1 Axes>"
      ]
     },
     "metadata": {
      "needs_background": "light"
     },
     "output_type": "display_data"
    }
   ],
   "source": [
    "plot_comparison(net, ('C', 0), {'F': 1, 'D': 0})"
   ]
  },
  {
   "cell_type": "markdown",
   "metadata": {},
   "source": [
    "For Gibbs sampling, try diffrent burnin values and report the accuracy (or error)."
   ]
  },
  {
   "cell_type": "code",
   "execution_count": 9,
   "metadata": {
    "collectable": true
   },
   "outputs": [],
   "source": [
    "burning_counts = [100, 500, 1000, 3000, 10000, 50000]\n",
    "gibbs_num_iter = 30000\n",
    "\n",
    "\n",
    "def gibbs_sample(bn, query, evidence):\n",
    "    return np.array(burning_counts), np.array([\n",
    "        bn.sampling(query, evidence, 'Gibbs', gibbs_num_iter, num_burning)\n",
    "        for num_burning in burning_counts\n",
    "    ])\n",
    "\n",
    "\n",
    "def plot_gibbs_comparison(bn, query, evidence):\n",
    "    x, samples = gibbs_sample(bn, query, evidence)\n",
    "    y = get_error(bn, query, evidence, samples)\n",
    "    plt.plot(x, y)\n",
    "    plt.title(f'Comparison between Gibbs different burnin nums for {query}, {evidence}')\n",
    "    plt.ylabel('error')\n",
    "    plt.xlabel('burnin num')\n",
    "    plt.show()"
   ]
  },
  {
   "cell_type": "code",
   "execution_count": 15,
   "metadata": {
    "collectable": true
   },
   "outputs": [
    {
     "data": {
      "image/png": "[encoded data removed]",
      "text/plain": [
       "<Figure size 432x288 with 1 Axes>"
      ]
     },
     "metadata": {
      "needs_background": "light"
     },
     "output_type": "display_data"
    }
   ],
   "source": [
    "plot_gibbs_comparison(net, ('F', 1), {'A': 1, 'E': 0})"
   ]
  },
  {
   "cell_type": "code",
   "execution_count": 21,
   "metadata": {
    "collectable": true
   },
   "outputs": [
    {
     "data": {
      "image/png": "[encoded data removed]",
      "text/plain": [
       "<Figure size 432x288 with 1 Axes>"
      ]
     },
     "metadata": {
      "needs_background": "light"
     },
     "output_type": "display_data"
    }
   ],
   "source": [
    "plot_gibbs_comparison(net, ('C', 0), {'F': 1, 'D': 0})"
   ]
  },
  {
   "cell_type": "markdown",
   "metadata": {},
   "source": [
    "# Q3 (20+ 5 Points)"
   ]
  },
  {
   "cell_type": "markdown",
   "metadata": {},
   "source": [
    "<font size=4>\n",
    "Author: Kian Bakhtari\n",
    "\t\t\t<br/>\n",
    "                <font color=red>\n",
    "Please run all the cells.\n",
    "     </font>\n",
    "</font>\n",
    "                <br/>\n",
    "    </div>"
   ]
  },
  {
   "cell_type": "markdown",
   "metadata": {},
   "source": [
    "## The Puerto Princesa ship"
   ]
  },
  {
   "cell_type": "markdown",
   "metadata": {},
   "source": [
    "At midnight on a fall day in the Philippines, a ship leaves Puerto Princesa City's seaport to Macao, China. After one or two hours, the boat loses its GPS connection because of a technical issue. Captain keeps navigating the ship to its destination, using the stars and four old radio towers, which you can see on the map. Each antenna could measure the ship's coordinates (X, Y) and send them to its receiver. There are five records of towers signals at five different times, available for you in the records.json file. Also, the boat's actual coordinates are available in the real_coordinates.json file. The exact coordinates are ONLY FOR EVALUATION PURPOSES, and you CAN NOT use them as input data. The five dots on the map below are actual coordinates of the ship, at each time step where the records from antennas were received. Also, the map is decorative and is not part of the data."
   ]
  },
  {
   "cell_type": "markdown",
   "metadata": {},
   "source": [
    "![Figure3-1](./Images/map.png)"
   ]
  },
  {
   "cell_type": "markdown",
   "metadata": {},
   "source": [
    "Each tower has a noise that is coming from a gaussian distribution, meaning that every (X, Y) pair that is received from an antenna is actually derived from:\n",
    "\n",
    "X = sample_from_normal_distribution(mean = X_real, std = antenna's std)\n",
    "Y = sample_from_normal_distribution(mean = Y_real, std = antenna's std)\n",
    "\n",
    "Information of radio towers (coordinate and noise standard deviation) is available in the towers_info.json file.\n",
    "\n",
    "The ship's movement between those five different time steps could be mathematically modeled as follows:\n",
    "At each time step, the ship moves D units to the north and F units to either east or west (half of the times west, and half of the times east). D and F are both samples from exponential distributions with a scale of Y_STEP and X_STEP, respectively. Those parameters are available in the moving_model.json file."
   ]
  },
  {
   "cell_type": "markdown",
   "metadata": {},
   "source": [
    "### Hidden Markov Model"
   ]
  },
  {
   "cell_type": "markdown",
   "metadata": {},
   "source": [
    "At this point, you can build a simple HMM and estimate the ship's coordinates using the conditional probabilities that you have. For each time step, calculate the ship's coordinates at that time step and previous time steps, using the tower records received up to that time. In simpler words, calculate:<br>\n",
    "\n",
    "P(coor_0 | records_0)<br>\n",
    "P(coor_1 | records_0, records_1)<br>\n",
    "...<br>\n",
    "P(coor_4 | records_0, records_1, records_2, records_3, records_4)<br>\n"
   ]
  },
  {
   "cell_type": "markdown",
   "metadata": {},
   "source": [
    "The actual coordinates of the ship in the first time step (coor_0) is coming from a 2-dimensional guassian distribution with the mean of Puerto Princesa city's coordinates and covarianve matrix of INIT_COV (scalar) times the identity matrix. INIT_COV and coordinates of Puerto Princesa city is availabel in moving_model.json file."
   ]
  },
  {
   "cell_type": "markdown",
   "metadata": {},
   "source": [
    "## Libraries"
   ]
  },
  {
   "cell_type": "code",
   "execution_count": 4,
   "metadata": {},
   "outputs": [],
   "source": [
    "import json\n",
    "import scipy\n",
    "import operator\n",
    "import numpy as np\n",
    "import pandas as pd\n",
    "\n",
    "from typing import Tuple\n",
    "from functools import reduce\n",
    "from scipy.stats import norm, expon\n",
    "from matplotlib import pyplot as plt"
   ]
  },
  {
   "cell_type": "markdown",
   "metadata": {},
   "source": [
    "## Data"
   ]
  },
  {
   "cell_type": "code",
   "execution_count": 5,
   "metadata": {},
   "outputs": [
    {
     "data": {
      "text/html": [
       "<div>\n",
       "<style scoped>\n",
       "    .dataframe tbody tr th:only-of-type {\n",
       "        vertical-align: middle;\n",
       "    }\n",
       "\n",
       "    .dataframe tbody tr th {\n",
       "        vertical-align: top;\n",
       "    }\n",
       "\n",
       "    .dataframe thead th {\n",
       "        text-align: right;\n",
       "    }\n",
       "</style>\n",
       "<table border=\"1\" class=\"dataframe\">\n",
       "  <thead>\n",
       "    <tr style=\"text-align: right;\">\n",
       "      <th></th>\n",
       "      <th>X</th>\n",
       "      <th>Y</th>\n",
       "    </tr>\n",
       "  </thead>\n",
       "  <tbody>\n",
       "    <tr>\n",
       "      <th>0</th>\n",
       "      <td>1087.233417</td>\n",
       "      <td>-57.165368</td>\n",
       "    </tr>\n",
       "    <tr>\n",
       "      <th>1</th>\n",
       "      <td>1044.936241</td>\n",
       "      <td>72.343990</td>\n",
       "    </tr>\n",
       "    <tr>\n",
       "      <th>2</th>\n",
       "      <td>967.051182</td>\n",
       "      <td>392.826826</td>\n",
       "    </tr>\n",
       "    <tr>\n",
       "      <th>3</th>\n",
       "      <td>314.440277</td>\n",
       "      <td>1219.678719</td>\n",
       "    </tr>\n",
       "    <tr>\n",
       "      <th>4</th>\n",
       "      <td>590.424895</td>\n",
       "      <td>1413.279887</td>\n",
       "    </tr>\n",
       "  </tbody>\n",
       "</table>\n",
       "</div>"
      ],
      "text/plain": [
       "             X            Y\n",
       "0  1087.233417   -57.165368\n",
       "1  1044.936241    72.343990\n",
       "2   967.051182   392.826826\n",
       "3   314.440277  1219.678719\n",
       "4   590.424895  1413.279887"
      ]
     },
     "execution_count": 5,
     "metadata": {},
     "output_type": "execute_result"
    }
   ],
   "source": [
    "real_coordinates = json.load(open('./inputs/real_coordinates.json'))\n",
    "pd.DataFrame(real_coordinates)"
   ]
  },
  {
   "cell_type": "code",
   "execution_count": 6,
   "metadata": {},
   "outputs": [
    {
     "data": {
      "text/html": [
       "<div>\n",
       "<style scoped>\n",
       "    .dataframe tbody tr th:only-of-type {\n",
       "        vertical-align: middle;\n",
       "    }\n",
       "\n",
       "    .dataframe tbody tr th {\n",
       "        vertical-align: top;\n",
       "    }\n",
       "\n",
       "    .dataframe thead th {\n",
       "        text-align: right;\n",
       "    }\n",
       "</style>\n",
       "<table border=\"1\" class=\"dataframe\">\n",
       "  <thead>\n",
       "    <tr style=\"text-align: right;\">\n",
       "      <th></th>\n",
       "      <th>1</th>\n",
       "      <th>2</th>\n",
       "      <th>3</th>\n",
       "      <th>4</th>\n",
       "    </tr>\n",
       "  </thead>\n",
       "  <tbody>\n",
       "    <tr>\n",
       "      <th>x</th>\n",
       "      <td>1405</td>\n",
       "      <td>10</td>\n",
       "      <td>210</td>\n",
       "      <td>630</td>\n",
       "    </tr>\n",
       "    <tr>\n",
       "      <th>y</th>\n",
       "      <td>600</td>\n",
       "      <td>880</td>\n",
       "      <td>1890</td>\n",
       "      <td>2090</td>\n",
       "    </tr>\n",
       "    <tr>\n",
       "      <th>std</th>\n",
       "      <td>60</td>\n",
       "      <td>110</td>\n",
       "      <td>90</td>\n",
       "      <td>80</td>\n",
       "    </tr>\n",
       "  </tbody>\n",
       "</table>\n",
       "</div>"
      ],
      "text/plain": [
       "        1    2     3     4\n",
       "x    1405   10   210   630\n",
       "y     600  880  1890  2090\n",
       "std    60  110    90    80"
      ]
     },
     "execution_count": 6,
     "metadata": {},
     "output_type": "execute_result"
    }
   ],
   "source": [
    "towers_info = json.load(open('./inputs/towers_info.json'))\n",
    "pd.DataFrame(towers_info)"
   ]
  },
  {
   "cell_type": "code",
   "execution_count": 7,
   "metadata": {},
   "outputs": [
    {
     "data": {
      "text/plain": [
       "{'X_STEP': 300,\n",
       " 'Y_STEP': 600,\n",
       " 'INIT_COV': 200,\n",
       " 'Peurto_coordinates': [1105, -50]}"
      ]
     },
     "execution_count": 7,
     "metadata": {},
     "output_type": "execute_result"
    }
   ],
   "source": [
    "moving_model = json.load(open('./inputs/moving_model.json'))\n",
    "moving_model"
   ]
  },
  {
   "cell_type": "code",
   "execution_count": 8,
   "metadata": {},
   "outputs": [
    {
     "data": {
      "text/html": [
       "<div>\n",
       "<style scoped>\n",
       "    .dataframe tbody tr th:only-of-type {\n",
       "        vertical-align: middle;\n",
       "    }\n",
       "\n",
       "    .dataframe tbody tr th {\n",
       "        vertical-align: top;\n",
       "    }\n",
       "\n",
       "    .dataframe thead th {\n",
       "        text-align: right;\n",
       "    }\n",
       "</style>\n",
       "<table border=\"1\" class=\"dataframe\">\n",
       "  <thead>\n",
       "    <tr style=\"text-align: right;\">\n",
       "      <th></th>\n",
       "      <th>Tower1</th>\n",
       "      <th>Tower2</th>\n",
       "      <th>Tower3</th>\n",
       "      <th>Tower4</th>\n",
       "    </tr>\n",
       "  </thead>\n",
       "  <tbody>\n",
       "    <tr>\n",
       "      <th>0</th>\n",
       "      <td>[994, -36]</td>\n",
       "      <td>[873, -28]</td>\n",
       "      <td>[958, 70]</td>\n",
       "      <td>[1077, -128]</td>\n",
       "    </tr>\n",
       "    <tr>\n",
       "      <th>1</th>\n",
       "      <td>[1053, 63]</td>\n",
       "      <td>[926, 26]</td>\n",
       "      <td>[961, 110]</td>\n",
       "      <td>[905, 82]</td>\n",
       "    </tr>\n",
       "    <tr>\n",
       "      <th>2</th>\n",
       "      <td>[956, 389]</td>\n",
       "      <td>[1106, 499]</td>\n",
       "      <td>[1005, 397]</td>\n",
       "      <td>[901, 326]</td>\n",
       "    </tr>\n",
       "    <tr>\n",
       "      <th>3</th>\n",
       "      <td>[331, 1227]</td>\n",
       "      <td>[377, 1232]</td>\n",
       "      <td>[270, 1282]</td>\n",
       "      <td>[232, 1051]</td>\n",
       "    </tr>\n",
       "    <tr>\n",
       "      <th>4</th>\n",
       "      <td>[520, 1376]</td>\n",
       "      <td>[577, 1446]</td>\n",
       "      <td>[397, 1456]</td>\n",
       "      <td>[648, 1364]</td>\n",
       "    </tr>\n",
       "  </tbody>\n",
       "</table>\n",
       "</div>"
      ],
      "text/plain": [
       "        Tower1       Tower2       Tower3        Tower4\n",
       "0   [994, -36]   [873, -28]    [958, 70]  [1077, -128]\n",
       "1   [1053, 63]    [926, 26]   [961, 110]     [905, 82]\n",
       "2   [956, 389]  [1106, 499]  [1005, 397]    [901, 326]\n",
       "3  [331, 1227]  [377, 1232]  [270, 1282]   [232, 1051]\n",
       "4  [520, 1376]  [577, 1446]  [397, 1456]   [648, 1364]"
      ]
     },
     "execution_count": 8,
     "metadata": {},
     "output_type": "execute_result"
    }
   ],
   "source": [
    "records = json.load(open('./inputs/records.json'))\n",
    "pd.DataFrame(records)"
   ]
  },
  {
   "cell_type": "markdown",
   "metadata": {},
   "source": [
    "## Functions"
   ]
  },
  {
   "cell_type": "code",
   "execution_count": 9,
   "metadata": {},
   "outputs": [],
   "source": [
    "tower_records = [(records.get('Tower1')[i],\n",
    "                  records.get('Tower2')[i], \n",
    "                  records.get('Tower3')[i], \n",
    "                  records.get('Tower4')[i]) for i in range(5)]"
   ]
  },
  {
   "cell_type": "code",
   "execution_count": 10,
   "metadata": {},
   "outputs": [
    {
     "data": {
      "text/plain": [
       "[([994, -36], [873, -28], [958, 70], [1077, -128]),\n",
       " ([1053, 63], [926, 26], [961, 110], [905, 82]),\n",
       " ([956, 389], [1106, 499], [1005, 397], [901, 326]),\n",
       " ([331, 1227], [377, 1232], [270, 1282], [232, 1051]),\n",
       " ([520, 1376], [577, 1446], [397, 1456], [648, 1364])]"
      ]
     },
     "execution_count": 10,
     "metadata": {},
     "output_type": "execute_result"
    }
   ],
   "source": [
    "tower_records"
   ]
  },
  {
   "cell_type": "code",
   "execution_count": null,
   "metadata": {
    "collectable": true
   },
   "outputs": [],
   "source": [
    "# extra space"
   ]
  },
  {
   "cell_type": "code",
   "execution_count": null,
   "metadata": {
    "collectable": true
   },
   "outputs": [],
   "source": [
    "# extra space"
   ]
  },
  {
   "cell_type": "code",
   "execution_count": 11,
   "metadata": {
    "collectable": true
   },
   "outputs": [],
   "source": [
    "def get_mean_towers_coor(time_step: int, tower_records: list):\n",
    "    # The average of all four towers measurements at a given time step\n",
    "    x = np.average([tower_coor[0] for tower_coor in tower_records[time_step]])\n",
    "    y = np.average([tower_coor[1] for tower_coor in tower_records[time_step]])\n",
    "    return x, y\n",
    "\n",
    "\n",
    "def P_coor0(coor0):\n",
    "    # Distribuiton of initial coordinates (time step 0)\n",
    "    x0, y0 = coor0\n",
    "    return scipy.stats.multivariate_normal.pdf([x0, y0], \n",
    "                            mean=moving_model.get('Peurto_coordinates'),cov=moving_model.get('INIT_COV'))\n",
    "\n",
    "\n",
    "# filling these three functions with apropriate codes: (2 points)\n",
    "\n",
    "def P_coor_given_prevCoor(coor, prev_coor):\n",
    "    # Probability of coordinates at time step i, given the coordinates of time step i-1\n",
    "    f, d = (coor[0] - prev_coor[0], coor[1] - prev_coor[1])\n",
    "    return (\n",
    "        0.5 * scipy.stats.expon.pdf(np.abs(f), scale=moving_model['X_STEP']),\n",
    "        scipy.stats.expon.pdf(d, scale=moving_model['Y_STEP'])\n",
    "    )\n",
    "\n",
    "    \n",
    "def P_towerCoor_given_coor(tower_coor, tower_std, coor):\n",
    "    return (\n",
    "        scipy.stats.norm(coor[0], tower_std).pdf(tower_coor[0]),\n",
    "        scipy.stats.norm(coor[1], tower_std).pdf(tower_coor[1])\n",
    "    )\n",
    "    \n",
    "    \n",
    "def P_record_given_coor(rec, coor, towers_info):\n",
    "    # All four measurements of all four towers at time step i, is called the record of thime step i.\n",
    "    # This function returns the probability of a record given the ship's coordinates.\n",
    "    return np.prod([\n",
    "        P_towerCoor_given_coor(rec[i], info['std'], coor)\n",
    "        for i, info in enumerate(towers_info.values())\n",
    "    ], axis=0)"
   ]
  },
  {
   "cell_type": "code",
   "execution_count": 275,
   "metadata": {},
   "outputs": [],
   "source": [
    "def real_coor(time_step):\n",
    "    return round(real_coordinates.get('X')[time_step]), round(real_coordinates.get('Y')[time_step])\n",
    "\n",
    "def dist(coor_a, coor_b):\n",
    "    return round(np.sqrt((coor_a[0] - coor_b[0])**2 + (coor_a[1] - coor_b[1])**2))\n",
    "\n",
    "coor0_estimations = []\n",
    "coor1_estimations = []\n",
    "coor2_estimations = []\n",
    "coor3_estimations = []"
   ]
  },
  {
   "cell_type": "markdown",
   "metadata": {},
   "source": [
    "#### Estimating coordinates_0 from P(coor_0) and record_0"
   ]
  },
  {
   "cell_type": "markdown",
   "metadata": {},
   "source": [
    "In the cell below, you can see the approach for finding the argmax of P(coor_0 | record_0), which is equal to argmax of P(record_0 | coor_0) times P(coor_0).\n",
    "We are not using derivatives to find the argmax, we are actually doing it numerically by trying different coordinates and seeing which one provides the highest probability. <br>\n",
    "\n",
    "#### Recommended approach: You can use gradient descent to find the argmax of probability function, and that will give you 5 extra points.\n",
    "\n",
    "<br>\n",
    "<font color='darkblue'>\n",
    "     gradient descent for this part is implemented in next box.\n",
    "</font>"
   ]
  },
  {
   "cell_type": "code",
   "execution_count": 44,
   "metadata": {},
   "outputs": [],
   "source": [
    "# argmax P(coor_0 | record_0) = argmax P(record_0 | coor_0) P(coor_0)\n",
    "\n",
    "best_x0, best_y0 = None, None\n",
    "\n",
    "max_Px, max_Py = 0, 0\n",
    "interval, step = 300, 5\n",
    "# Larger interval and smaller step will lead to a more accurate result, but will increase computational \n",
    "# complexity deramaticly. Feel free to use other approaches like running this cell more than once and tighten\n",
    "# the searching interval with smaller steps. \n",
    "# Recommended approach: You can use gradient descent to find the argmax of probability\n",
    "# function, and that will give you 5 extra points.\n",
    "\n",
    "towers_mean_x0, towers_mean_y0 = get_mean_towers_coor(0, tower_records)\n",
    "\n",
    "for x0 in range(int(towers_mean_x0 - interval), int(towers_mean_x0 + interval), step):\n",
    "    for y0 in range(int(towers_mean_y0 - interval), int(towers_mean_y0 + interval), step):\n",
    "        \n",
    "        coor0 = (x0, y0)\n",
    "        rec0 = tower_records[0]\n",
    "\n",
    "        P_rec0_given_x0, P_rec0_given_y0 = P_record_given_coor(rec0, coor0, towers_info)\n",
    "        p_c0 = P_coor0(coor0)\n",
    "    \n",
    "        Px = P_rec0_given_x0 * p_c0\n",
    "        Py = P_rec0_given_y0 * p_c0\n",
    "\n",
    "        if Px > max_Px:\n",
    "            best_x0 = x0\n",
    "            max_Px = Px\n",
    "\n",
    "        if Py > max_Py:\n",
    "            best_y0 = y0\n",
    "            max_Py = Py\n",
    "\n",
    "\n",
    "coor0_estimations.append((best_x0, best_y0))"
   ]
  },
  {
   "cell_type": "code",
   "execution_count": 12,
   "metadata": {
    "collectable": true
   },
   "outputs": [],
   "source": [
    "def gradient(func, coors):\n",
    "\n",
    "    epsilon = 1E-1\n",
    "    grads = []\n",
    "    coors = coors.tolist()\n",
    "\n",
    "    for i, coor in enumerate(coors):\n",
    "        grad = []\n",
    "        for idx in range(len(coor)):\n",
    "            x_ = coor.copy()\n",
    "            x_[idx] += epsilon\n",
    "                \n",
    "            coors_ = coors.copy()\n",
    "            coors_[i] = x_\n",
    "            grad.append((func(coors_, idx) - func(coors, idx)) / epsilon)\n",
    "\n",
    "        grads.append(grad)\n",
    "    return np.array(grads)\n",
    "\n",
    "\n",
    "def gradiant_descent(\n",
    "    func, initial_point, learning_rate: float = 5, max_iterations: int = 1000\n",
    "):\n",
    "    x = np.array(initial_point, dtype=np.float_).copy()\n",
    "    for _ in range(max_iterations):\n",
    "        prev_x = x.copy()\n",
    "        x -= learning_rate * gradient(func, x)\n",
    "        if np.array_equal(x, prev_x):\n",
    "            break\n",
    "\n",
    "    return x"
   ]
  },
  {
   "cell_type": "code",
   "execution_count": 13,
   "metadata": {
    "collectable": true
   },
   "outputs": [],
   "source": [
    "def estimation_func(coors, idx):\n",
    "    n = len(coors)\n",
    "    np_input = list()\n",
    "    for i in range(n - 1, -1, -1):\n",
    "        np_input.append(P_record_given_coor(tower_records[i], coors[i], towers_info)[idx])\n",
    "        \n",
    "    for i in range(n - 1, 0, -1):\n",
    "        np_input.append(P_coor_given_prevCoor(coors[i], coors[i - 1])[idx])\n",
    "    \n",
    "    np_input.append(P_coor0(coors[0]))\n",
    "    return - np.sum(np.log(np_input))\n",
    "      \n",
    "\n",
    "def estimate(time, interval=None, learning_rate=5):\n",
    "    if not interval:\n",
    "        interval = 0\n",
    "    \n",
    "    coors_estimations = (coor0_estimations, coor1_estimations, coor2_estimations, coor3_estimations)\n",
    "    prev_coors = (estimations[-1] for estimations in coors_estimations[:time])\n",
    "\n",
    "    mean_x, mean_y = get_mean_towers_coor(time, tower_records)\n",
    "    coor = mean_x - interval, mean_y - interval\n",
    "\n",
    "    coors = list(prev_coors) + list((coor,))\n",
    "    best_coors = gradiant_descent(estimation_func, coors, learning_rate)\n",
    "    \n",
    "    assert time == len(best_coors) - 1\n",
    "    return best_coors"
   ]
  },
  {
   "cell_type": "code",
   "execution_count": 14,
   "metadata": {
    "collectable": true
   },
   "outputs": [],
   "source": [
    "def print_estimation(coors):\n",
    "    for i, coor in enumerate(coors):\n",
    "        print(\n",
    "            f'real_coor{i}: {real_coor(i)} - Estimated_coor{i}: {coor[0], coor[1]}',\n",
    "            f'Estimation_error: {dist((coor[0], coor[1]), real_coor(i))}',\n",
    "            sep='\\n'\n",
    "        )\n",
    "        print()"
   ]
  },
  {
   "cell_type": "code",
   "execution_count": 276,
   "metadata": {
    "collectable": true
   },
   "outputs": [
    {
     "name": "stdout",
     "output_type": "stream",
     "text": [
      "real_coor0: (1087, -57) - Estimated_coor0: (1091.1362449867283, -48.42441165955036)\n",
      "Estimation_error: 10\n",
      "\n"
     ]
    }
   ],
   "source": [
    "best_coors = estimate(time=0, interval=0, learning_rate=0.85)\n",
    "\n",
    "coor0_estimations.append(best_coors[0])\n",
    "\n",
    "print_estimation(best_coors)"
   ]
  },
  {
   "cell_type": "code",
   "execution_count": null,
   "metadata": {},
   "outputs": [],
   "source": [
    "# extra space"
   ]
  },
  {
   "cell_type": "markdown",
   "metadata": {},
   "source": [
    "#### Estimating coordinates_0 and coordinates_1 from P(coor_0), record_0, and record_1<br>(4 points)\n",
    "\n",
    "<br>\n",
    "<font color='darkblue'>\n",
    "     gradient descent for this part is implemented in next box.\n",
    "</font>"
   ]
  },
  {
   "cell_type": "code",
   "execution_count": 177,
   "metadata": {
    "collectable": true
   },
   "outputs": [],
   "source": [
    "# argmax P(coor_0 | record_0, record_1)\n",
    "# argmax P(coor_1 | coor_0, record_0, record_1)\n",
    "\n",
    "\n",
    "max_Px, max_Py = 0, 0\n",
    "interval, step = 20, 5\n",
    "\n",
    "best_x0, best_y0 = None, None\n",
    "best_x1, best_y1 = None, None\n",
    "\n",
    "towers_mean_x1, towers_mean_y1 = get_mean_towers_coor(1, tower_records)\n",
    "\n",
    "for x0 in range(int(coor0_estimations[-1][0] - interval), int(coor0_estimations[-1][0] + interval), step):\n",
    "    for y0 in range(int(coor0_estimations[-1][1] - interval), int(coor0_estimations[-1][1] + interval), step):\n",
    "        \n",
    "         for x1 in range(int(towers_mean_x1 - interval), int(towers_mean_x1 + interval), step):\n",
    "            for y1 in range(int(towers_mean_y1 - interval), int(towers_mean_y1 + interval), step):\n",
    "                    \n",
    "                coor0 = (x0, y0)\n",
    "                coor1 = (x1, y1)\n",
    "\n",
    "                rec0 = tower_records[0]\n",
    "                rec1 = tower_records[1]\n",
    "                \n",
    "                P_rec1_given_x1, P_rec1_given_y1 = P_record_given_coor(rec1, coor1, towers_info)\n",
    "                P_rec0_given_x0, P_rec0_given_y0 = P_record_given_coor(rec1, coor0, towers_info)\n",
    "                P_x1_given_x0, P_y1_given_y0 = P_coor_given_prevCoor(coor1, coor0)\n",
    "                P_c0 = P_coor0(coor0)\n",
    "    \n",
    "                Px = P_rec1_given_x1 * P_rec0_given_x0 * P_x1_given_x0 * P_c0\n",
    "                Py = P_rec1_given_y1 * P_rec0_given_y0 * P_y1_given_y0 * P_c0\n",
    "\n",
    "                if Px > max_Px:\n",
    "                    best_x0 = x0\n",
    "                    best_x1 = x1\n",
    "                    max_Px = Px\n",
    "\n",
    "                if Py > max_Py:\n",
    "                    best_y0 = y0\n",
    "                    best_y1 = y1\n",
    "                    max_Py = Py\n",
    "                    \n",
    "            \n",
    "coor0_estimations.append((best_x0, best_y0))\n",
    "coor1_estimations.append((best_x1, best_y1))"
   ]
  },
  {
   "cell_type": "code",
   "execution_count": 277,
   "metadata": {
    "collectable": true
   },
   "outputs": [
    {
     "name": "stdout",
     "output_type": "stream",
     "text": [
      "real_coor0: (1087, -57) - Estimated_coor0: (1091.4993486456258, -48.276807505299026)\n",
      "Estimation_error: 10\n",
      "\n",
      "real_coor1: (1045, 72) - Estimated_coor1: (980.0026958054827, 69.56139172884494)\n",
      "Estimation_error: 65\n",
      "\n"
     ]
    }
   ],
   "source": [
    "\"\"\"\n",
    "argmax P(rec1|coor1) * P(rec0|coor0) * P(coor1 | coor0) * P(coor0)\n",
    "\"\"\"\n",
    "\n",
    "best_coors = estimate(time=1, interval=0, learning_rate=1.9)\n",
    "\n",
    "coor0_estimations.append(best_coors[0])\n",
    "coor1_estimations.append(best_coors[1])\n",
    "\n",
    "print_estimation(best_coors)"
   ]
  },
  {
   "cell_type": "code",
   "execution_count": null,
   "metadata": {
    "collectable": true
   },
   "outputs": [],
   "source": [
    "# extra space"
   ]
  },
  {
   "cell_type": "code",
   "execution_count": null,
   "metadata": {},
   "outputs": [],
   "source": [
    "# extra space"
   ]
  },
  {
   "cell_type": "markdown",
   "metadata": {},
   "source": [
    "#### Estimating coordinates_0, coordinates_1 and coordinates_2 from P(coor_0), record_0, record_1, and record_2 <br> (4 points)"
   ]
  },
  {
   "cell_type": "code",
   "execution_count": 278,
   "metadata": {
    "collectable": true
   },
   "outputs": [
    {
     "name": "stdout",
     "output_type": "stream",
     "text": [
      "real_coor0: (1087, -57) - Estimated_coor0: (1091.4993562469429, -48.27680441531354)\n",
      "Estimation_error: 10\n",
      "\n",
      "real_coor1: (1045, 72) - Estimated_coor1: (983.3359276544292, 71.09642483818386)\n",
      "Estimation_error: 62\n",
      "\n",
      "real_coor2: (967, 393) - Estimated_coor2: (980.1643988637811, 392.1114323198982)\n",
      "Estimation_error: 13\n",
      "\n"
     ]
    }
   ],
   "source": [
    "\"\"\"\n",
    "argmax P(rec2|coor2) * P(rec1|coor1) * P(rec0|coor0) * \n",
    "P(coor2|coor1) * P(coor1 | coor0) * P(coor0)\n",
    "\"\"\"\n",
    "\n",
    "best_coors = estimate(time=2, interval=0, learning_rate=1.7)\n",
    "\n",
    "coor0_estimations.append(best_coors[0])\n",
    "coor1_estimations.append(best_coors[1])\n",
    "coor2_estimations.append(best_coors[2])\n",
    "\n",
    "print_estimation(best_coors)"
   ]
  },
  {
   "cell_type": "code",
   "execution_count": null,
   "metadata": {
    "collectable": true
   },
   "outputs": [],
   "source": [
    "# extra space"
   ]
  },
  {
   "cell_type": "code",
   "execution_count": null,
   "metadata": {
    "collectable": true
   },
   "outputs": [],
   "source": [
    "# extra space"
   ]
  },
  {
   "cell_type": "markdown",
   "metadata": {},
   "source": [
    "#### Estimating coordinates_0, coordinates_1, coordinates_2, and coordinates_3 from  P(coor_0), record_0, record_1, record_2, and record_3 <br> (4 points)"
   ]
  },
  {
   "cell_type": "code",
   "execution_count": 279,
   "metadata": {
    "collectable": true
   },
   "outputs": [
    {
     "name": "stdout",
     "output_type": "stream",
     "text": [
      "real_coor0: (1087, -57) - Estimated_coor0: (1091.4993562474388, -48.27680441510933)\n",
      "Estimation_error: 10\n",
      "\n",
      "real_coor1: (1045, 72) - Estimated_coor1: (982.7799315061205, 71.76139666432927)\n",
      "Estimation_error: 62\n",
      "\n",
      "real_coor2: (967, 393) - Estimated_coor2: (972.6318165565809, 389.7256170226105)\n",
      "Estimation_error: 7\n",
      "\n",
      "real_coor3: (314, 1220) - Estimated_coor3: (305.63018364392235, 1193.4234098812467)\n",
      "Estimation_error: 28\n",
      "\n"
     ]
    }
   ],
   "source": [
    "\"\"\"\n",
    "argmax P(rec3|coor3) * P(rec2|coor2) * P(rec1|coor1)* P(rec0|coor0) *\n",
    "P(coor3|coor2) * P(coor2|coor1) * P(coor1 | coor0) * P(coor0)\n",
    "\"\"\"\n",
    "\n",
    "best_coors = estimate(time=3, interval=0, learning_rate=3)\n",
    "\n",
    "coor0_estimations.append(best_coors[0])\n",
    "coor1_estimations.append(best_coors[1])\n",
    "coor2_estimations.append(best_coors[2])\n",
    "coor3_estimations.append(best_coors[3])\n",
    "\n",
    "print_estimation(best_coors)"
   ]
  },
  {
   "cell_type": "markdown",
   "metadata": {},
   "source": [
    "<font color='darkblue'>\n",
    "    Estimating coordinates_0, coordinates_1, coordinates_2,  coordinates_3, and coordinates_4 from  P(coor_0), record_0, record_1, record_2, record_3, and  record_4 for better curves in the next part.\n",
    "</font>"
   ]
  },
  {
   "cell_type": "code",
   "execution_count": 280,
   "metadata": {
    "collectable": true
   },
   "outputs": [
    {
     "name": "stdout",
     "output_type": "stream",
     "text": [
      "real_coor0: (1087, -57) - Estimated_coor0: (1091.4993562474374, -48.27680441510791)\n",
      "Estimation_error: 10\n",
      "\n",
      "real_coor1: (1045, 72) - Estimated_coor1: (982.688525806539, 71.87071795217516)\n",
      "Estimation_error: 62\n",
      "\n",
      "real_coor2: (967, 393) - Estimated_coor2: (971.3934609356236, 389.3333892760656)\n",
      "Estimation_error: 6\n",
      "\n",
      "real_coor3: (314, 1220) - Estimated_coor3: (311.1410304207658, 1195.1691415008693)\n",
      "Estimation_error: 25\n",
      "\n",
      "real_coor4: (590, 1413) - Estimated_coor4: (529.8615621179002, 1395.5165663060682)\n",
      "Estimation_error: 63\n",
      "\n"
     ]
    }
   ],
   "source": [
    "best_coors = estimate(time=4, interval=0, learning_rate=5)\n",
    "\n",
    "coor0_estimations.append(best_coors[0])\n",
    "coor1_estimations.append(best_coors[1])\n",
    "coor2_estimations.append(best_coors[2])\n",
    "coor3_estimations.append(best_coors[3])\n",
    "coor4_estimations = [best_coors[4]]\n",
    "\n",
    "print_estimation(best_coors)"
   ]
  },
  {
   "cell_type": "code",
   "execution_count": null,
   "metadata": {
    "collectable": true
   },
   "outputs": [],
   "source": [
    "# extra space"
   ]
  },
  {
   "cell_type": "markdown",
   "metadata": {},
   "source": [
    "As you know from the theoretical aspect, and you can see from your results, the errors of estimations decrease when you use more records and conditional probabilities."
   ]
  },
  {
   "cell_type": "markdown",
   "metadata": {},
   "source": [
    "#### Plot curves that show using more records, leads to decrease of estimation error.<br>( 6 points)\n"
   ]
  },
  {
   "cell_type": "code",
   "execution_count": 290,
   "metadata": {
    "collectable": true
   },
   "outputs": [],
   "source": [
    "def plot_coor_errors(coor_estimations, time):\n",
    "    x = list(range(time, 5))\n",
    "    y = [dist((coor[0], coor[1]), real_coor(time)) for coor in coor_estimations]\n",
    "    plt.plot(x, y)\n",
    "    plt.xticks(x)\n",
    "    plt.title(f'Error with different record num for coor{time}')\n",
    "    plt.ylabel('error')\n",
    "    plt.xlabel('record num')\n",
    "    plt.show()"
   ]
  },
  {
   "cell_type": "code",
   "execution_count": 291,
   "metadata": {
    "collectable": true
   },
   "outputs": [
    {
     "data": {
      "image/png": "[encoded data removed]",
      "text/plain": [
       "<Figure size 432x288 with 1 Axes>"
      ]
     },
     "metadata": {
      "needs_background": "light"
     },
     "output_type": "display_data"
    }
   ],
   "source": [
    "plot_coor_errors(coor2_estimations, 2)"
   ]
  },
  {
   "cell_type": "code",
   "execution_count": null,
   "metadata": {
    "collectable": true
   },
   "outputs": [],
   "source": [
    "# extra space"
   ]
  }
 ],
 "metadata": {
  "interpreter": {
   "hash": "f336af7d54ba0f0c1daaf2256eb85f31e983e88153daf7a27ef3ea6c724faba4"
  },
  "kernelspec": {
   "display_name": "Python 3 (ipykernel)",
   "language": "python",
   "name": "python3"
  },
  "language_info": {
   "codemirror_mode": {
    "name": "ipython",
    "version": 3
   },
   "file_extension": ".py",
   "mimetype": "text/x-python",
   "name": "python",
   "nbconvert_exporter": "python",
   "pygments_lexer": "ipython3",
   "version": "3.10.0"
  }
 },
 "nbformat": 4,
 "nbformat_minor": 4
}
